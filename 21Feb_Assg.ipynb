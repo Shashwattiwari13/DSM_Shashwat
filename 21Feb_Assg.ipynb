{
 "cells": [
  {
   "cell_type": "markdown",
   "id": "7da0baec-c7a8-4648-bb46-264a700aefbb",
   "metadata": {},
   "source": [
    "Q1. What is Web Scraping? Why is it Used? Give three areas where Web Scraping is used to get data.\n",
    "\n",
    "Ans:\n",
    "\n",
    "Scarppping up of data from the web to extract necessary details is known as web scrapping.\n",
    "\n",
    "It is the process of collecting unstructured data from the web and convert it into some meaningful data format in a structural format.\n",
    "\n",
    "In eCommerce, Web Scraping is used for competition price monitoring.\n",
    "\n",
    "In Real Estate, Web Scraping is used to get property and agent/owner details.\n",
    "\n",
    " In Marketing, Web Scraping is used for lead generation, to build phone and email lists for cold outreach."
   ]
  },
  {
   "cell_type": "markdown",
   "id": "9754f123-a840-4348-8a8f-b6b672cd7308",
   "metadata": {},
   "source": [
    "Q2. What are the different methods used for Web Scraping?\n",
    "\n",
    "Ans:HTML Parsing, Pattern matching through regex,DOM parsing"
   ]
  },
  {
   "cell_type": "markdown",
   "id": "a49f4d5a-d7b8-4655-9242-c8e8eada0dd5",
   "metadata": {},
   "source": [
    "Q3. What is Beautiful Soup? Why is it used?\n",
    "\n",
    "Ans:\n",
    "Beautiful Soup is a Python library for getting data out of HTML, XML, and other markup languages.\n",
    "\n",
    "Beautiful Soup helps you pull particular content from a webpage, remove the HTML markup, and save the information. It is a tool for web scraping that helps you clean up and parse the documents you have pulled down from the web.\n",
    "\n",
    "\n"
   ]
  },
  {
   "cell_type": "markdown",
   "id": "84cfa4e0-f708-4cd9-938b-5288d710dba5",
   "metadata": {},
   "source": [
    "Q4. Why is flask used in this Web Scraping project?\n",
    "\n",
    "Ans:Flask is used in this web scrapping project to create end to end web application by using APIs to display necessary information using the web scrapping code we wrote ."
   ]
  },
  {
   "cell_type": "markdown",
   "id": "52fa350a-8a74-42bb-8f11-e7919152a9b6",
   "metadata": {},
   "source": [
    "Q5. Write the names of AWS services used in this project. Also, explain the use of each service.\n",
    "\n",
    "Ans:\n",
    "The AWS services used in this project are Code pipeline and Elastic Bean stack.\n",
    "\n",
    "The application code is pushed to github which is then accessed by Code Pipeline this code is then deployed with the help of elastic bean stack."
   ]
  },
  {
   "cell_type": "code",
   "execution_count": null,
   "id": "61ff8c52-256b-4750-ac6f-b626b86f6014",
   "metadata": {},
   "outputs": [],
   "source": []
  },
  {
   "cell_type": "code",
   "execution_count": null,
   "id": "0a5f411d-7fa3-41ad-83e8-47715af1525e",
   "metadata": {},
   "outputs": [],
   "source": []
  }
 ],
 "metadata": {
  "kernelspec": {
   "display_name": "Python 3 (ipykernel)",
   "language": "python",
   "name": "python3"
  },
  "language_info": {
   "codemirror_mode": {
    "name": "ipython",
    "version": 3
   },
   "file_extension": ".py",
   "mimetype": "text/x-python",
   "name": "python",
   "nbconvert_exporter": "python",
   "pygments_lexer": "ipython3",
   "version": "3.10.8"
  }
 },
 "nbformat": 4,
 "nbformat_minor": 5
}
