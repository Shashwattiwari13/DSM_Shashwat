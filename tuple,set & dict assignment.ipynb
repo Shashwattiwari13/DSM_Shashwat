{
 "cells": [
  {
   "cell_type": "markdown",
   "id": "f600b935",
   "metadata": {},
   "source": [
    "What are the characteristics of the tuples? Is tuple immutable?\n",
    "Ans: The characteristics of tuple are:\n",
    "**They are indexed\n",
    "**Tuples are ordered\n",
    "**They can contain duplicate items\n",
    "**yes,Tuples are immutable"
   ]
  },
  {
   "cell_type": "markdown",
   "id": "20e39e52",
   "metadata": {},
   "source": [
    "Q2. What are the two tuple methods in python? Give an example of each method. Give a reason why\n",
    "tuples have only two in-built methods as compared to Lists.\n",
    "Ans:The two tuple methods are count() and idex()\n"
   ]
  },
  {
   "cell_type": "markdown",
   "id": "71f2d2ad",
   "metadata": {},
   "source": [
    "The count() method of Tuple returns the number of times the given element appears in the tuple.\n",
    "Example of count()"
   ]
  },
  {
   "cell_type": "code",
   "execution_count": 2,
   "id": "2d320978",
   "metadata": {},
   "outputs": [
    {
     "name": "stdout",
     "output_type": "stream",
     "text": [
      "the number of appearences of 1 is: 3\n"
     ]
    }
   ],
   "source": [
    "tuple=(1,1,6,6,8,1)\n",
    "print(\"the number of appearences of 1 is:\",tuple.count(1))"
   ]
  },
  {
   "cell_type": "markdown",
   "id": "65183318",
   "metadata": {},
   "source": [
    "The Index() method returns the first occurrence of the given element from the tuple.\n",
    "Example of index()\n"
   ]
  },
  {
   "cell_type": "code",
   "execution_count": 4,
   "id": "0b21f1bc",
   "metadata": {},
   "outputs": [
    {
     "name": "stdout",
     "output_type": "stream",
     "text": [
      "the first occurance of 1: 0\n",
      "the first occurance of 1 after 3rd index 5\n"
     ]
    }
   ],
   "source": [
    "tuple=(1,1,6,6,8,1)\n",
    "print(\"the first occurance of 1:\",tuple.index(1))\n",
    "print(\"the first occurance of 1 after 3rd index\",tuple.index(1,3))"
   ]
  },
  {
   "cell_type": "markdown",
   "id": "5ab544d0",
   "metadata": {},
   "source": [
    "Q3. Which collection datatypes in python do not allow duplicate items? Write a code using a set to remove duplicates from the given list.\n",
    "Ans:Set collection data type in python does not allow duplicate items "
   ]
  },
  {
   "cell_type": "markdown",
   "id": "541df3ef",
   "metadata": {},
   "source": [
    "Write a code using a set to remove duplicates from the given list.\n",
    "List = [1, 1, 1, 2, 1, 3, 1, 4, 2, 1, 2, 2, 2, 3, 2, 4, 3, 1, 3, 2, 3, 3, 3, 4, 4, 1, 4, 2, 4, 3, 4, 4]"
   ]
  },
  {
   "cell_type": "code",
   "execution_count": 5,
   "id": "12820b03",
   "metadata": {},
   "outputs": [
    {
     "name": "stdout",
     "output_type": "stream",
     "text": [
      "{1, 2, 3, 4}\n"
     ]
    }
   ],
   "source": [
    "List = [1, 1, 1, 2, 1, 3, 1, 4, 2, 1, 2, 2, 2, 3, 2, 4, 3, 1, 3, 2, 3, 3, 3, 4, 4, 1, 4, 2, 4, 3, 4, 4]\n",
    "print(set(List))"
   ]
  },
  {
   "cell_type": "markdown",
   "id": "9eaa09cb",
   "metadata": {},
   "source": [
    "Q4. Explain the difference between the union() and update() methods for a set. Give an example of\n",
    "each method.\n",
    "Ans:**set.update() adds all missing elements to the set on which it is called whereas set.union() creates a new set.\n",
    "**the return value of set.update() is None (with side effects) and the return value of set.union() is a set.\n"
   ]
  },
  {
   "cell_type": "markdown",
   "id": "b38b1234",
   "metadata": {},
   "source": [
    "Example of set.update()"
   ]
  },
  {
   "cell_type": "code",
   "execution_count": 8,
   "id": "1c54fdcf",
   "metadata": {},
   "outputs": [
    {
     "data": {
      "text/plain": [
       "{1, 2, 3, 4, 5}"
      ]
     },
     "execution_count": 8,
     "metadata": {},
     "output_type": "execute_result"
    }
   ],
   "source": [
    "s1={1,2,3}\n",
    "s2={4,5}\n",
    "\n",
    "s1.update(s2)\n",
    "s1\n"
   ]
  },
  {
   "cell_type": "code",
   "execution_count": 9,
   "id": "3537f40d",
   "metadata": {},
   "outputs": [
    {
     "data": {
      "text/plain": [
       "{1, 2, 3, 4, 5}"
      ]
     },
     "execution_count": 9,
     "metadata": {},
     "output_type": "execute_result"
    }
   ],
   "source": [
    "s1\n",
    "#the set s1 is modified "
   ]
  },
  {
   "cell_type": "markdown",
   "id": "90778d24",
   "metadata": {},
   "source": [
    "Example of set.union()"
   ]
  },
  {
   "cell_type": "code",
   "execution_count": 11,
   "id": "b2853a89",
   "metadata": {},
   "outputs": [
    {
     "data": {
      "text/plain": [
       "{1, 2, 3, 4, 5}"
      ]
     },
     "execution_count": 11,
     "metadata": {},
     "output_type": "execute_result"
    }
   ],
   "source": [
    "s = {1, 2, 3}\n",
    "s.union({4, 5})\n",
    "#returns a new set "
   ]
  },
  {
   "cell_type": "markdown",
   "id": "99da43a9",
   "metadata": {},
   "source": [
    "What is a dictionary? Give an example. Also, state whether a dictionary is ordered or unordered.\n",
    "Ans:Dictionary is a python data structure which stores data in a key value pair format."
   ]
  },
  {
   "cell_type": "markdown",
   "id": "83a7c9d3",
   "metadata": {},
   "source": [
    "Example of Dictionary\n"
   ]
  },
  {
   "cell_type": "code",
   "execution_count": 13,
   "id": "1e816a50",
   "metadata": {},
   "outputs": [
    {
     "data": {
      "text/plain": [
       "{'name': 'sam', 'email': 'sk@gmail.com', 'number': 2335435}"
      ]
     },
     "execution_count": 13,
     "metadata": {},
     "output_type": "execute_result"
    }
   ],
   "source": [
    "#keyvalue pairs\n",
    "d={'name':'sam','email':'sk@gmail.com','number':2335435}\n",
    "d"
   ]
  },
  {
   "cell_type": "markdown",
   "id": "dadbe36d",
   "metadata": {},
   "source": [
    "Dictionary are ordered in python.\n",
    "When we say that dictionaries are ordered, it means that the items have a defined order, and that order will not change."
   ]
  },
  {
   "cell_type": "markdown",
   "id": "d2481215",
   "metadata": {},
   "source": [
    "Q6. Can we create a nested dictionary? If so, please give an example by creating a simple one-level\n",
    "nested dictionary.\n",
    "Ans: Yes we can create nested dictionary."
   ]
  },
  {
   "cell_type": "code",
   "execution_count": 14,
   "id": "a4ef4383",
   "metadata": {},
   "outputs": [
    {
     "data": {
      "text/plain": [
       "{'name': 'shashwat',\n",
       " 'favourites': {'movie': 'inception', 'artist': 'linkin park'}}"
      ]
     },
     "execution_count": 14,
     "metadata": {},
     "output_type": "execute_result"
    }
   ],
   "source": [
    "#Example of Nested Dictionary\n",
    "d={'name':'shashwat','favourites':{'movie':'inception','artist':'linkin park'}}\n",
    "d\n"
   ]
  },
  {
   "cell_type": "markdown",
   "id": "f87786dc",
   "metadata": {},
   "source": [
    "Q7. Using setdefault() method, create key named topics in the given dictionary and also add the value of the key as this list ['Python', 'Machine Learning’, 'Deep Learning']\n",
    "dict1 = {'language' : 'Python', 'course': 'Data Science Masters'}\n"
   ]
  },
  {
   "cell_type": "markdown",
   "id": "c8f4949b",
   "metadata": {},
   "source": [
    "The setdefault() method returns the value of the item with the specified key.\n",
    "If the key does not exist, insert the key, with the specified value."
   ]
  },
  {
   "cell_type": "code",
   "execution_count": 16,
   "id": "b2c911d5",
   "metadata": {},
   "outputs": [
    {
     "data": {
      "text/plain": [
       "['Pyton', 'Machine Learning', 'Deep Learning']"
      ]
     },
     "execution_count": 16,
     "metadata": {},
     "output_type": "execute_result"
    }
   ],
   "source": [
    "dict1 = {'language' : 'Python', 'course': 'Data Science Masters'}\n",
    "dict1.setdefault('topics',['Pyton','Machine Learning','Deep Learning'])"
   ]
  },
  {
   "cell_type": "markdown",
   "id": "418f4b75",
   "metadata": {},
   "source": [
    "Q8. What are the three view objects in dictionaries? Use the three in-built methods in python to display these three view objects for the given dictionary.\n",
    "dict1 = {'Sport': 'Cricket' , 'Teams': ['India', 'Australia', 'England', 'South Africa', 'Sri Lanka', 'New Zealand']}\n"
   ]
  },
  {
   "cell_type": "markdown",
   "id": "979f950a",
   "metadata": {},
   "source": [
    "The main view objects of dictionary in python are keys, values and items."
   ]
  },
  {
   "cell_type": "code",
   "execution_count": 17,
   "id": "b8b88223",
   "metadata": {},
   "outputs": [
    {
     "data": {
      "text/plain": [
       "dict_items([('Sport', 'Cricket'), ('Teams', ['India', 'Australia', 'England', 'South Africa', 'Sri Lanka', 'New Zealand'])])"
      ]
     },
     "execution_count": 17,
     "metadata": {},
     "output_type": "execute_result"
    }
   ],
   "source": [
    "#to display items\n",
    "dict1 = {'Sport': 'Cricket' , 'Teams': ['India', 'Australia', 'England', 'South Africa', 'Sri Lanka',\n",
    "        'New Zealand']}\n",
    "dict1.items()\n"
   ]
  },
  {
   "cell_type": "code",
   "execution_count": 18,
   "id": "e6f0f4c8",
   "metadata": {},
   "outputs": [
    {
     "data": {
      "text/plain": [
       "dict_keys(['Sport', 'Teams'])"
      ]
     },
     "execution_count": 18,
     "metadata": {},
     "output_type": "execute_result"
    }
   ],
   "source": [
    "#to display only keys\n",
    "dict1.keys()"
   ]
  },
  {
   "cell_type": "code",
   "execution_count": 19,
   "id": "5940c3ef",
   "metadata": {},
   "outputs": [
    {
     "data": {
      "text/plain": [
       "dict_values(['Cricket', ['India', 'Australia', 'England', 'South Africa', 'Sri Lanka', 'New Zealand']])"
      ]
     },
     "execution_count": 19,
     "metadata": {},
     "output_type": "execute_result"
    }
   ],
   "source": [
    "#to display only values\n",
    "dict1.values()"
   ]
  },
  {
   "cell_type": "code",
   "execution_count": null,
   "id": "842aae05",
   "metadata": {},
   "outputs": [],
   "source": []
  }
 ],
 "metadata": {
  "kernelspec": {
   "display_name": "Python 3",
   "language": "python",
   "name": "python3"
  },
  "language_info": {
   "codemirror_mode": {
    "name": "ipython",
    "version": 3
   },
   "file_extension": ".py",
   "mimetype": "text/x-python",
   "name": "python",
   "nbconvert_exporter": "python",
   "pygments_lexer": "ipython3",
   "version": "3.7.4"
  }
 },
 "nbformat": 4,
 "nbformat_minor": 5
}
