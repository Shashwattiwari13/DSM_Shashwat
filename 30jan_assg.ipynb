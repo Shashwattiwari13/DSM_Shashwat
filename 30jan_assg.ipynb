{
 "cells": [
  {
   "cell_type": "markdown",
   "id": "5f329e94",
   "metadata": {},
   "source": [
    "# 1"
   ]
  },
  {
   "cell_type": "code",
   "execution_count": 1,
   "id": "036093d9",
   "metadata": {},
   "outputs": [
    {
     "name": "stdout",
     "output_type": "stream",
     "text": [
      "89.9\n",
      "B\n"
     ]
    }
   ],
   "source": [
    "percentage=float(input())\n",
    "\n",
    "if percentage > 90:\n",
    "    print('A')\n",
    "elif percentage <=90 and percentage>80:\n",
    "    print('B')\n",
    "elif percentage <=80 and percentage>=60:\n",
    "    print('C')\n",
    "elif percentage <60:\n",
    "    print('D')\n",
    "\n"
   ]
  },
  {
   "cell_type": "markdown",
   "id": "f17cb3ab",
   "metadata": {},
   "source": [
    "2"
   ]
  },
  {
   "cell_type": "code",
   "execution_count": 2,
   "id": "d124fe73",
   "metadata": {},
   "outputs": [
    {
     "name": "stdout",
     "output_type": "stream",
     "text": [
      "1000000\n",
      "road tax to be paid: 15%\n"
     ]
    }
   ],
   "source": [
    "cost_price=float(input())\n",
    "\n",
    "if cost_price > 10000:\n",
    "    print('road tax to be paid: 15%')\n",
    "elif(cost_price>50000 and cost_price<=100000):\n",
    "    print('road tax to be paid: 10%')\n",
    "elif(cost_price<=50000):\n",
    "    print('road tax to be paid: 5%')"
   ]
  },
  {
   "cell_type": "code",
   "execution_count": 3,
   "id": "f9615e7e",
   "metadata": {},
   "outputs": [
    {
     "name": "stdout",
     "output_type": "stream",
     "text": [
      "Delhi\n",
      "Red Fort\n"
     ]
    }
   ],
   "source": [
    "#3\n",
    "city=str(input())\n",
    "\n",
    "if(city==\"Delhi\"):\n",
    "    print(\"Red Fort\")\n",
    "elif(city==\"Agra\"):\n",
    "    print(\"Taj Mahal\")\n",
    "elif(city==\"Jaipur\"):\n",
    "    print(\"Jal Mahal\")\n"
   ]
  },
  {
   "cell_type": "code",
   "execution_count": 4,
   "id": "e9931578",
   "metadata": {},
   "outputs": [
    {
     "name": "stdout",
     "output_type": "stream",
     "text": [
      "99\n",
      "3\n"
     ]
    }
   ],
   "source": [
    "#4 and #5\n",
    "#Q4 and Q5 \n",
    "#while statement will execute the loop as long as the condition is true\n",
    "num=int(input())\n",
    "\n",
    "c=0\n",
    "while num>10:\n",
    "    num=num/3\n",
    "    c+=1\n",
    "print(c)\n",
    "\n"
   ]
  },
  {
   "cell_type": "code",
   "execution_count": 5,
   "id": "7c3ef2c9",
   "metadata": {},
   "outputs": [
    {
     "name": "stdout",
     "output_type": "stream",
     "text": [
      "* \n",
      "* * \n",
      "* * * \n",
      "* * * * \n",
      "* * * * * \n"
     ]
    }
   ],
   "source": [
    "#6\n",
    "i=0\n",
    "while i<=4:\n",
    "    j=0\n",
    "    while j<=i:\n",
    "        print('*',end=' ')\n",
    "        j+=1\n",
    "    print(\"\")\n",
    "    i+=1\n",
    "\n",
    "    "
   ]
  },
  {
   "cell_type": "code",
   "execution_count": 6,
   "id": "7a7bb0f8",
   "metadata": {},
   "outputs": [
    {
     "name": "stdout",
     "output_type": "stream",
     "text": [
      "* * * * \n",
      "* * * \n",
      "* * \n",
      "* \n"
     ]
    }
   ],
   "source": [
    "i=0\n",
    "while i<=3:\n",
    "    j=3\n",
    "    while j>=i:\n",
    "        print('*',end=' ')\n",
    "        j-=1\n",
    "    print(\"\")\n",
    "    i+=1"
   ]
  },
  {
   "cell_type": "code",
   "execution_count": 7,
   "id": "b0c4c67e",
   "metadata": {},
   "outputs": [
    {
     "name": "stdout",
     "output_type": "stream",
     "text": [
      "0 1 2 3 \n",
      "1 1 2 3 \n",
      "2 2 2 3 \n",
      "3 3 3 3 \n"
     ]
    }
   ],
   "source": [
    "i=0\n",
    "while i<=3:\n",
    "    j=0\n",
    "    while j<=3:\n",
    "        if j<=i:\n",
    "            print(i,end=' ')\n",
    "        else:\n",
    "            print(j,end=' ')\n",
    "        j+=1\n",
    "    print(\"\")\n",
    "    i+=1\n",
    "    "
   ]
  },
  {
   "cell_type": "code",
   "execution_count": 1,
   "id": "928b845b",
   "metadata": {},
   "outputs": [
    {
     "name": "stdout",
     "output_type": "stream",
     "text": [
      "10 9 8 7 6 5 4 3 2 1 "
     ]
    }
   ],
   "source": [
    "#7 adn #8\n",
    "i=10\n",
    "while i>=1:\n",
    "    print(i,end=' ')\n",
    "    i=i-1"
   ]
  },
  {
   "cell_type": "code",
   "execution_count": null,
   "id": "472cbe31",
   "metadata": {},
   "outputs": [],
   "source": []
  },
  {
   "cell_type": "code",
   "execution_count": null,
   "id": "59923aef",
   "metadata": {},
   "outputs": [],
   "source": []
  }
 ],
 "metadata": {
  "kernelspec": {
   "display_name": "Python 3",
   "language": "python",
   "name": "python3"
  },
  "language_info": {
   "codemirror_mode": {
    "name": "ipython",
    "version": 3
   },
   "file_extension": ".py",
   "mimetype": "text/x-python",
   "name": "python",
   "nbconvert_exporter": "python",
   "pygments_lexer": "ipython3",
   "version": "3.7.4"
  }
 },
 "nbformat": 4,
 "nbformat_minor": 5
}
