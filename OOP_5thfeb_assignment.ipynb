{
 "cells": [
  {
   "cell_type": "markdown",
   "id": "f8ef6ee7",
   "metadata": {},
   "source": [
    "Q1. Explain Class and Object with respect to Object-Oriented Programming. Give a suitable example.\n",
    "Ans: class:classes are user defined prototypes or blueprint from which objects are created.\n",
    "objects:these are instance of class containing actual values\n"
   ]
  },
  {
   "cell_type": "code",
   "execution_count": 6,
   "id": "d35c699a",
   "metadata": {},
   "outputs": [
    {
     "name": "stdout",
     "output_type": "stream",
     "text": [
      "<class '__main__.Vehicle'>\n"
     ]
    }
   ],
   "source": [
    "#example\n",
    "class Vehicle:\n",
    "    pass\n",
    "car=Vehicle()\n",
    "print(type(car))\n",
    "#vehicle is class t is an object "
   ]
  },
  {
   "cell_type": "markdown",
   "id": "a2ff6929",
   "metadata": {},
   "source": [
    "Q2. Name the four pillars of OOPs.\n",
    "Ans:Inheritance,Polymorphism, Encapsulation and Abstraction"
   ]
  },
  {
   "cell_type": "markdown",
   "id": "eeb0302e",
   "metadata": {},
   "source": [
    "Q3. Explain why the __init__() function is used. Give a suitable example.\n",
    "Ans:It is called when object is created and allows the class to initialize the object"
   ]
  },
  {
   "cell_type": "code",
   "execution_count": 7,
   "id": "bfee8eb7",
   "metadata": {},
   "outputs": [
    {
     "data": {
      "text/plain": [
       "('sam', 32, 145)"
      ]
     },
     "execution_count": 7,
     "metadata": {},
     "output_type": "execute_result"
    }
   ],
   "source": [
    "class pw:\n",
    "    def __init__(self,name,age,roll):\n",
    "        self.name=name\n",
    "        self.age=age\n",
    "        self.roll=roll\n",
    "    def display(self):\n",
    "        return self.name,self.age,self.roll\n",
    "rohan=pw('sam',32,145)\n",
    "rohan.display()"
   ]
  },
  {
   "cell_type": "markdown",
   "id": "b57615d3",
   "metadata": {},
   "source": [
    "Q4. Why self is used in OOPs?\n",
    "Ans:Self represents instance of the class with self we can access attributes & methods of the class\n",
    "It is always pointing towards the current object."
   ]
  },
  {
   "cell_type": "markdown",
   "id": "f791ea83",
   "metadata": {},
   "source": [
    "Q5. What is inheritance? Give an example for each type of inheritance.\n",
    "Ans: A mechanism in which a child class can access features of parent class is know as inheritance.\n"
   ]
  },
  {
   "cell_type": "code",
   "execution_count": 8,
   "id": "eb8c2c59",
   "metadata": {},
   "outputs": [],
   "source": [
    "#Single Level Inheritance\n",
    "class A:#parent\n",
    "    pass\n",
    "class B(A):#child\n",
    "    pass\n",
    "x=B()"
   ]
  },
  {
   "cell_type": "code",
   "execution_count": 9,
   "id": "d2844d52",
   "metadata": {},
   "outputs": [],
   "source": [
    "#Multiple Inheritance \n",
    "class A:#parent \n",
    "    pass\n",
    "class B:#parent\n",
    "    pass\n",
    "class C(A,B):#child\n",
    "    pass\n",
    "x=C()"
   ]
  },
  {
   "cell_type": "code",
   "execution_count": 10,
   "id": "d7419f0a",
   "metadata": {},
   "outputs": [],
   "source": [
    "#Multilevel\n",
    "class A:\n",
    "    pass\n",
    "class B(A):\n",
    "    pass\n",
    "class C(B):\n",
    "    pass\n",
    "x=C()\n",
    "#Hybrid inheritance\n",
    "#Hierarchical inheritance "
   ]
  },
  {
   "cell_type": "code",
   "execution_count": null,
   "id": "977b6864",
   "metadata": {},
   "outputs": [],
   "source": []
  }
 ],
 "metadata": {
  "kernelspec": {
   "display_name": "Python 3",
   "language": "python",
   "name": "python3"
  },
  "language_info": {
   "codemirror_mode": {
    "name": "ipython",
    "version": 3
   },
   "file_extension": ".py",
   "mimetype": "text/x-python",
   "name": "python",
   "nbconvert_exporter": "python",
   "pygments_lexer": "ipython3",
   "version": "3.7.4"
  }
 },
 "nbformat": 4,
 "nbformat_minor": 5
}
