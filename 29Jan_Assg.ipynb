{
 "cells": [
  {
   "cell_type": "markdown",
   "id": "c85ca75e-7fef-4187-8136-8ebd61c393b3",
   "metadata": {},
   "source": [
    "1.Guido van Rossum"
   ]
  },
  {
   "cell_type": "markdown",
   "id": "0df29414-0c9a-44b7-9d71-6ee62e043ccf",
   "metadata": {},
   "source": [
    "2.Dynamic programming\n",
    "\n",
    "Dynamic programming is defined as a computer programming technique where an algorithmic problem is first broken down into sub-problems, the results are saved, and then the sub-problems are optimized to find the overall solution"
   ]
  },
  {
   "cell_type": "markdown",
   "id": "cd8a514d-940a-45ee-8eb1-e5458d361479",
   "metadata": {},
   "source": [
    "3.Yes python is case sensitive when dealing with identifiers.\n",
    "\n",
    "Python Identifier is the name we give to identify a variable, function, class, module or other object."
   ]
  },
  {
   "cell_type": "markdown",
   "id": "5fb652a7-5ea8-4d41-b475-0f0e7f08f029",
   "metadata": {},
   "source": [
    "4.Correct extension for python file is .py"
   ]
  },
  {
   "cell_type": "markdown",
   "id": "e4ad9783-8857-47cb-8c75-3c13031cdbc9",
   "metadata": {},
   "source": [
    "5.Interpreted "
   ]
  },
  {
   "cell_type": "markdown",
   "id": "cc9a68b1-2644-4341-adf4-d89d390fd7b5",
   "metadata": {},
   "source": [
    "6.Some blocks: module, function, class"
   ]
  },
  {
   "cell_type": "markdown",
   "id": "8456d201-1b03-40f8-8bc6-13302e439de3",
   "metadata": {},
   "source": [
    "7.Single line comment using #"
   ]
  },
  {
   "cell_type": "markdown",
   "id": "118229d9-e2c6-4750-88f1-7bf72ee634b9",
   "metadata": {},
   "source": [
    "8.to know the version of python you are currently working on is sys.version"
   ]
  },
  {
   "cell_type": "markdown",
   "id": "42afa9da-6ca3-4442-b68a-461fac95f0f9",
   "metadata": {},
   "source": [
    "9.Lambda  functions"
   ]
  },
  {
   "cell_type": "markdown",
   "id": "25e1aca2-6777-434e-b38f-0543ac0c04d5",
   "metadata": {},
   "source": [
    "10.pip-prefered installer program"
   ]
  },
  {
   "cell_type": "markdown",
   "id": "8078bba5-e25b-4403-a9c3-f9d90d9f1e06",
   "metadata": {},
   "source": [
    "11.sort(),int(),print(),str()"
   ]
  },
  {
   "cell_type": "markdown",
   "id": "f396691e-1e72-4cc8-ab08-4fd68a441ff0",
   "metadata": {},
   "source": [
    "12.Maximum possible lenght of an identifier -79 characters"
   ]
  },
  {
   "cell_type": "markdown",
   "id": "3a7451aa-c81a-439f-b771-f65db9493c88",
   "metadata": {},
   "source": [
    "13.open source,easy syntax,dynamic language,no need to specify data types"
   ]
  },
  {
   "cell_type": "markdown",
   "id": "b9b90fe2-ffe8-40a0-987a-c06ea8c712be",
   "metadata": {},
   "source": [
    "14.There are two types of memories in python \n",
    "\n",
    "a. Stack Memory\n",
    "\n",
    "In stack memory the references are stored \n",
    "\n",
    "\n",
    "b. Private Heap Memory\n",
    "\n",
    "The values and objects are stored in heap memory.\n",
    "\n"
   ]
  },
  {
   "cell_type": "markdown",
   "id": "3a9abf74-31e0-493a-b5fb-c6649300d38f",
   "metadata": {},
   "source": [
    "15.Install python from this link https://www.python.org/downloads/\n",
    "\n",
    "After this, install it on your PC. Look for the location where PYTHON has been installed on your PC using tge following command on your command prompt: cmd python. Then go to advanced system settings and add new variable and name it as PYTHON_NAME and paste the copied path. Then look for the path variable, select it's value and select edit Add a semicolon towards the end of the value if it's not present and then type %PYTHON_HOME%"
   ]
  },
  {
   "cell_type": "markdown",
   "id": "6e30611b-17c9-4106-b465-d15aee61b6c1",
   "metadata": {},
   "source": [
    "16.Identification is required in python."
   ]
  }
 ],
 "metadata": {
  "kernelspec": {
   "display_name": "Python 3 (ipykernel)",
   "language": "python",
   "name": "python3"
  },
  "language_info": {
   "codemirror_mode": {
    "name": "ipython",
    "version": 3
   },
   "file_extension": ".py",
   "mimetype": "text/x-python",
   "name": "python",
   "nbconvert_exporter": "python",
   "pygments_lexer": "ipython3",
   "version": "3.10.8"
  }
 },
 "nbformat": 4,
 "nbformat_minor": 5
}
