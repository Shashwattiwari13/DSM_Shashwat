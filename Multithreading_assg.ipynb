{
 "cells": [
  {
   "cell_type": "markdown",
   "id": "f7a2364c-53e9-4dda-9132-6178c0eb620e",
   "metadata": {},
   "source": [
    "Q1. what is multithreading in python? Why is it used? Name the module used to handle threads in python.\n",
    "\n",
    "Ans:A process of running multiple threads simultaneously within a single process.\n",
    "\n",
    "If we have a quardcore processor and there's a program running in each core nammely p1,p2,p3, and p4 so at that time if we want to running the p1 multiple times then at that time the threads come in to action where each thread is designed to do multiple task.\n",
    "\n",
    "threading module is used to handle threads in python"
   ]
  },
  {
   "cell_type": "markdown",
   "id": "50ed05a8-a701-4189-9073-64b799043473",
   "metadata": {},
   "source": [
    "Q2.why threading module used?\n",
    "Ans:threading module is used because it exposes all the methods of the thread module and provides some additional methods.\n",
    "Write the use of the following functions\n",
    "1.activeCount-Returns the number of thread objects that are active.\n",
    "2.currentThread- Returns the number of thread objects in the caller's thread control.\n",
    "3.enumerate-Returns a list of all thread objects that are currently active."
   ]
  },
  {
   "cell_type": "markdown",
   "id": "f8e45aa0-dcb0-4d2f-9888-8d5887b9ffd8",
   "metadata": {},
   "source": [
    "Q3.Explain the following functions\n",
    "1.run()  − The run() method is the entry point for a thread.\n",
    "2.start()  − The start() method starts a thread by calling the run method.\n",
    "3.join()  − The join() waits for threads to terminate.\n",
    "4.isAlive()  − The isAlive() method checks whether a thread is still executing."
   ]
  },
  {
   "cell_type": "markdown",
   "id": "c0732676-e6c7-49f0-af1b-6b0de4593ea5",
   "metadata": {},
   "source": [
    "Q4. Write a python program to create two threads. Thread one must print the list of squares and thread\n",
    "two must print the list of cubes."
   ]
  },
  {
   "cell_type": "code",
   "execution_count": 1,
   "id": "100b8c19-0421-4028-8de3-c6ccd191d41b",
   "metadata": {},
   "outputs": [
    {
     "name": "stdout",
     "output_type": "stream",
     "text": [
      "[1, 4, 9, 16]\n",
      "[1, 8, 27, 64]\n"
     ]
    }
   ],
   "source": [
    "import threading\n",
    "def cube(l):\n",
    "    l1=[]\n",
    "    for i in l:\n",
    "        l1.append(i**3)\n",
    "    print(l1)\n",
    "def square(l):\n",
    "    l2=[]\n",
    "    for i in l:\n",
    "        l2.append(i**2)\n",
    "    print(l2)\n",
    "\n",
    "if __name__=='__main__':\n",
    "    t1=threading.Thread(target=square,args=([1,2,3,4],))\n",
    "    t2=threading.Thread(target=cube,args=([1,2,3,4],))\n",
    "    t1.start()\n",
    "    t2.start()\n",
    "    \n"
   ]
  },
  {
   "cell_type": "code",
   "execution_count": null,
   "id": "03a72e9f-2377-4b1c-994f-db4c1a608f8d",
   "metadata": {},
   "outputs": [],
   "source": []
  },
  {
   "cell_type": "markdown",
   "id": "bc0e677d-355b-4453-8612-3b7a92543ad8",
   "metadata": {},
   "source": [
    "Q5.State advantages and disadvantages of multithreading\n",
    "\n",
    "Ans:Advantages\n",
    "\n",
    "Enhanced performance by decreased development time.\n",
    "\n",
    "Simplified and streamlined program coding\n",
    "\n",
    "Decreased cost of maintenance\n",
    "\n",
    "less memory utilization\n",
    "\n",
    "\n",
    "Disadvantages\n",
    "\n",
    "Complex debugging and testing processes\n",
    "\n",
    "Overhead switching of context\n",
    "\n",
    "Increased potential for deadlock occurrence\n",
    "\n",
    "Unpredictable results"
   ]
  },
  {
   "cell_type": "markdown",
   "id": "0395f183-efa0-4fbd-a8c4-65d56e9d0ed2",
   "metadata": {},
   "source": [
    "Q6.Explain deadlocks and race conditions.\n",
    "\n",
    "DEADLOCK CONDITION\n",
    "When two processes are waiting for each other directly or indirectly, it is called deadlock.\n",
    "\n",
    "This usually occurs when two processes are waiting for shared resources acquired by others. For example, If thread T1 acquired resource R1 and it also needs resource R2 for it to accomplish its task. But the resource R2 is acquired by thread T2 which is waiting for resource R1(which is acquired by T1).. Neither of them will be able to accomplish its task, as they keep waiting for the other resources they need.\n",
    "\n",
    "RACE CONDITION\n",
    "When two processes are competing with each other causing data corruption.\n",
    "\n",
    "For example, if two processes/threads are trying to execute the following conditions simultaneously, they cause data corruption:\n",
    "\n",
    "Thread 1:\n",
    "total = num1 + num2\n",
    "\n",
    "Thread 2:\n",
    "total = num1 - num2\n"
   ]
  },
  {
   "cell_type": "code",
   "execution_count": null,
   "id": "228020db-5f25-4378-898f-6d77332b69cf",
   "metadata": {},
   "outputs": [],
   "source": []
  }
 ],
 "metadata": {
  "kernelspec": {
   "display_name": "Python 3 (ipykernel)",
   "language": "python",
   "name": "python3"
  },
  "language_info": {
   "codemirror_mode": {
    "name": "ipython",
    "version": 3
   },
   "file_extension": ".py",
   "mimetype": "text/x-python",
   "name": "python",
   "nbconvert_exporter": "python",
   "pygments_lexer": "ipython3",
   "version": "3.10.8"
  }
 },
 "nbformat": 4,
 "nbformat_minor": 5
}
