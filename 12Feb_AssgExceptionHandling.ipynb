{
 "cells": [
  {
   "cell_type": "markdown",
   "id": "aef5143e-9586-4f9b-9f22-b6fe1bb7813a",
   "metadata": {},
   "source": [
    "Q1. What is an Exception in pthon? Write the difference between Exception and Syntx errors.\n",
    "\n",
    "\n",
    "Ans: When the proper syntax of the language is not followed then a syntax error is thrown.\n",
    "    Ex-no putting a : after if statement \n",
    "    Exceptions are raised when the program is syntactically correct, but the code resulted in an error. This error does   not stop the execution of the program, however, it changes the normal flow of the program.\n",
    "    ex- For example, when we divide any number by zero then the ZeroDivisionError exception is raised\n",
    "    "
   ]
  },
  {
   "cell_type": "markdown",
   "id": "614dc0f3-e1ed-4edd-a921-6797b32fa36f",
   "metadata": {},
   "source": [
    "Q2. What hppens whenn exception is not handled? Explin with an example\n",
    "\n",
    "Ans: when an exception is not handled then it will affect the normal flow of the program and the code after the line on which the exception has occured would not execute.\n",
    "    "
   ]
  },
  {
   "cell_type": "code",
   "execution_count": 1,
   "id": "e863a0dd-8f66-4170-bc93-f1b916b257df",
   "metadata": {},
   "outputs": [
    {
     "ename": "ZeroDivisionError",
     "evalue": "integer division or modulo by zero",
     "output_type": "error",
     "traceback": [
      "\u001b[0;31m---------------------------------------------------------------------------\u001b[0m",
      "\u001b[0;31mZeroDivisionError\u001b[0m                         Traceback (most recent call last)",
      "Cell \u001b[0;32mIn[1], line 4\u001b[0m\n\u001b[1;32m      2\u001b[0m a\u001b[38;5;241m=\u001b[39m\u001b[38;5;241m1\u001b[39m\n\u001b[1;32m      3\u001b[0m b\u001b[38;5;241m=\u001b[39m\u001b[38;5;241m1\u001b[39m\n\u001b[0;32m----> 4\u001b[0m a\u001b[38;5;241m=\u001b[39m\u001b[38;5;241;43m1\u001b[39;49m\u001b[38;5;241;43m/\u001b[39;49m\u001b[38;5;241;43m/\u001b[39;49m\u001b[38;5;241;43m0\u001b[39;49m\n\u001b[1;32m      5\u001b[0m \u001b[38;5;28mprint\u001b[39m(b)\n",
      "\u001b[0;31mZeroDivisionError\u001b[0m: integer division or modulo by zero"
     ]
    }
   ],
   "source": [
    "#example\n",
    "a=1\n",
    "b=1\n",
    "a=1//0\n",
    "print(b)\n",
    "#here as u can see the print(b) statement does not get executed because of the error in a=1//0"
   ]
  },
  {
   "cell_type": "markdown",
   "id": "58e8628f-ded6-4810-b8e4-5b06c4de0450",
   "metadata": {},
   "source": [
    "Q3. Which Python statements are used to catch and handle exceptions? Explin with an example.\n",
    "\n",
    "Ans:In python the try and except keywords are used to catch and handle exception"
   ]
  },
  {
   "cell_type": "code",
   "execution_count": 4,
   "id": "e808c18e-d973-41af-ae79-7270d90fc5b5",
   "metadata": {},
   "outputs": [
    {
     "name": "stdout",
     "output_type": "stream",
     "text": [
      "the exception has been handle in except integer division or modulo by zero\n",
      "2\n"
     ]
    }
   ],
   "source": [
    "#example\n",
    "a=1\n",
    "b=2\n",
    "try:\n",
    "    a=1//0\n",
    "    \n",
    "except Exception as e:\n",
    "    print('the exception has been handle in except',e)\n",
    "print(b)\n"
   ]
  },
  {
   "cell_type": "markdown",
   "id": "e143482e-6b6a-400b-ac1b-2dcf36529e18",
   "metadata": {},
   "source": [
    "Q4. Explain with an exmple"
   ]
  },
  {
   "cell_type": "markdown",
   "id": "a9a27af9-8d36-445b-ad74-ac93e7886fe8",
   "metadata": {},
   "source": [
    "try and else ,finally,raise\n",
    "if our try block does not have error then we can write some code which we want to execute only if the exception\n",
    "did not occur\n",
    "finally:doen't matter if the exception is handled or not the code inside the final block will always execute\n",
    "raise:it will raise an exception can be writtne inside the except block\n",
    " The raise keyword raises an error and stops the control flow of the program.\n",
    "It is used to bring up the current exception in an exception handler so that it can be handled further up the call stack."
   ]
  },
  {
   "cell_type": "code",
   "execution_count": 13,
   "id": "715dab8b-5b08-4afa-aed4-79af2f4a3dd8",
   "metadata": {},
   "outputs": [
    {
     "name": "stdin",
     "output_type": "stream",
     "text": [
      " 1\n",
      " 0\n"
     ]
    },
    {
     "name": "stdout",
     "output_type": "stream",
     "text": [
      "zero modulo integer division or modulo by zero\n",
      "block will execute no matter what\n"
     ]
    }
   ],
   "source": [
    "a=int(input())\n",
    "b=int(input())\n",
    "try:\n",
    "    r=a//b\n",
    "except Exception as e:\n",
    "    print('zero modulo',e)\n",
    "else:\n",
    "    print(r)\n",
    "finally:\n",
    "    print('block will execute no matter what')\n",
    "    \n",
    "    "
   ]
  },
  {
   "cell_type": "markdown",
   "id": "91f87dd5-3cc7-467d-bc78-5abba898a194",
   "metadata": {},
   "source": [
    "Q5. What are Custom Exceptions in python? Why do we need Custom Exceptions? Explain with an example\n",
    "\n",
    "Ans:Custom exceptions are exceptions that are created by a programmer which are not present in the exception class.\n",
    "    We need custom exceptions because in a specific project there might project based conditions which should throw an erorr if user tries some different things.\n",
    "    These can store additional information, like an application-specific error code, or provide utility methods that can be used to handle or present the exception to a user.\n",
    "    "
   ]
  },
  {
   "cell_type": "markdown",
   "id": "a4971f4e-533f-4eb3-90bd-a0b4339d36b6",
   "metadata": {},
   "source": [
    "Q6. Create custom exception class. Use this class to handle an exception."
   ]
  },
  {
   "cell_type": "code",
   "execution_count": 35,
   "id": "f9227d45-48c7-427d-b120-41a328d0c022",
   "metadata": {},
   "outputs": [],
   "source": [
    "class validate(Exception):\n",
    "    def __init__(self,msg):\n",
    "        self.msg=msg"
   ]
  },
  {
   "cell_type": "code",
   "execution_count": 36,
   "id": "52f847c8-9fbb-4d2a-a4d1-b5826b972cb3",
   "metadata": {},
   "outputs": [],
   "source": [
    "def validate_even(num):\n",
    "    if num%2!=0:\n",
    "        raise (validate(\"odd num\"))\n",
    "    elif num<0:\n",
    "        raise validate('negative num')\n",
    "    else:\n",
    "        print(num)\n",
    "    return a"
   ]
  },
  {
   "cell_type": "code",
   "execution_count": 37,
   "id": "be5a7712-0fbe-4b63-8e3a-362ebc852771",
   "metadata": {},
   "outputs": [
    {
     "name": "stdin",
     "output_type": "stream",
     "text": [
      " 3\n"
     ]
    },
    {
     "name": "stdout",
     "output_type": "stream",
     "text": [
      "odd num\n"
     ]
    }
   ],
   "source": [
    "try:\n",
    "    num=int(input())\n",
    "    validate_even(num)\n",
    "except validate as e:\n",
    "    print(e)"
   ]
  },
  {
   "cell_type": "code",
   "execution_count": null,
   "id": "da0c432f-e983-45f9-8752-484a61e9d180",
   "metadata": {},
   "outputs": [],
   "source": []
  }
 ],
 "metadata": {
  "kernelspec": {
   "display_name": "Python 3 (ipykernel)",
   "language": "python",
   "name": "python3"
  },
  "language_info": {
   "codemirror_mode": {
    "name": "ipython",
    "version": 3
   },
   "file_extension": ".py",
   "mimetype": "text/x-python",
   "name": "python",
   "nbconvert_exporter": "python",
   "pygments_lexer": "ipython3",
   "version": "3.10.8"
  }
 },
 "nbformat": 4,
 "nbformat_minor": 5
}
