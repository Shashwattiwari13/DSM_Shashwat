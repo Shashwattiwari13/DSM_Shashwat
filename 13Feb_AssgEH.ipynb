{
 "cells": [
  {
   "cell_type": "markdown",
   "id": "7592b214-5cda-42ea-89b1-5809f8dc80fb",
   "metadata": {},
   "source": [
    "Q1. Explain why we have to use the Exception class while creating a Custom Exception.\n",
    "\n",
    "ans: 1.if we don't inherit the Exception class then python would not understand whether the code is a custom exception\n",
    "    or a normal code.\n",
    "    2.also it'll through a type error if raise is used otherwise it won't print anything"
   ]
  },
  {
   "cell_type": "markdown",
   "id": "8dba9c4a-015d-4fca-8f6b-f743ac9b5840",
   "metadata": {},
   "source": [
    "Q2. Write a python program to print Python Exception Hierarchy.\n"
   ]
  },
  {
   "cell_type": "code",
   "execution_count": 7,
   "id": "f6c796ce-00b3-4ca2-9e2f-93db4127a640",
   "metadata": {},
   "outputs": [],
   "source": [
    "import logging"
   ]
  },
  {
   "cell_type": "code",
   "execution_count": 8,
   "id": "fd636bef-0957-4d91-a371-290bcce24274",
   "metadata": {},
   "outputs": [],
   "source": [
    "logging.basicConfig(filename='test.log',level=logging.DEBUG)"
   ]
  },
  {
   "cell_type": "code",
   "execution_count": 9,
   "id": "1557cf68-d5ae-4fbe-b4df-8904acd4f3ab",
   "metadata": {},
   "outputs": [],
   "source": [
    "logging.debug('my info regarding debug')"
   ]
  },
  {
   "cell_type": "code",
   "execution_count": 10,
   "id": "2ee5a9e9-eac9-40d4-835d-df6c16f2c8dd",
   "metadata": {},
   "outputs": [],
   "source": [
    "logging.info('my info')"
   ]
  },
  {
   "cell_type": "code",
   "execution_count": 11,
   "id": "34f5cbd2-0797-476c-b49f-1fa47a1b67f9",
   "metadata": {},
   "outputs": [],
   "source": [
    "logging.warning('this is my warning')"
   ]
  },
  {
   "cell_type": "code",
   "execution_count": 12,
   "id": "71547da7-250c-4ef2-8280-3d09505b45f1",
   "metadata": {},
   "outputs": [],
   "source": [
    "logging.error('this is my error log')"
   ]
  },
  {
   "cell_type": "code",
   "execution_count": 13,
   "id": "cfb411be-87da-4844-bb2e-31222caf76b8",
   "metadata": {},
   "outputs": [],
   "source": [
    "logging.critical('this is my critical log')"
   ]
  },
  {
   "cell_type": "markdown",
   "id": "e332c57c-1afc-48b1-bea2-01b1be23e2b6",
   "metadata": {},
   "source": [
    "Q3. What errors are defined in the ArithmeticError class? Explain any two with an example.\n",
    "\n",
    "Ans:This class is the base class for those built-in exceptions that are raised for various arithmetic errors such as :\n",
    "OverflowError\n",
    "ZeroDivisionError\n",
    "FloatingPointError"
   ]
  },
  {
   "cell_type": "code",
   "execution_count": 1,
   "id": "de0b6627-307a-48ec-b324-e2ed34b8bef7",
   "metadata": {},
   "outputs": [
    {
     "name": "stdout",
     "output_type": "stream",
     "text": [
      "ZeroDivisionError of ArithmeticError class division by zero\n"
     ]
    }
   ],
   "source": [
    "#zero divison error\n",
    "try:\n",
    "    10/0\n",
    "except ZeroDivisionError as e:\n",
    "    print('ZeroDivisionError of ArithmeticError class',e)"
   ]
  },
  {
   "cell_type": "code",
   "execution_count": 6,
   "id": "e8079072-2600-484d-9a22-774410210be2",
   "metadata": {},
   "outputs": [
    {
     "name": "stdout",
     "output_type": "stream",
     "text": [
      "5.0\n",
      "25.0\n",
      "15625.0\n",
      "5.960464477539062e+16\n",
      "7.52316384526264e+83\n",
      "Overflow error of Arithmetic class (34, 'Numerical result out of range')\n"
     ]
    }
   ],
   "source": [
    "#overflowerror\n",
    "#When an arithmetic operation exceeds the limits of the variable type,\n",
    "#an OverflowError is raised. Long integers allocate more space as values grow, so they end up raising MemoryError.\n",
    "j = 5.0\n",
    "try:\n",
    "    for i in range(1, 1000):\n",
    "        j = j**i\n",
    "        print(j)\n",
    "except OverflowError as e:\n",
    "    print('Overflow error of Arithmetic class',e)"
   ]
  },
  {
   "cell_type": "markdown",
   "id": "19fc0194-7f0c-46c7-a536-6076c1507200",
   "metadata": {},
   "source": [
    "Q4. Why LookupError class is used? Explain with an example KeyError and IndexError.\n",
    "\n",
    "ams:LookupError Exception is the Base class for errors raised when something can’t be found."
   ]
  },
  {
   "cell_type": "code",
   "execution_count": 14,
   "id": "721b76a0-aec8-4a58-95ab-10c25b49d594",
   "metadata": {},
   "outputs": [
    {
     "name": "stdout",
     "output_type": "stream",
     "text": [
      "'key10'\n"
     ]
    }
   ],
   "source": [
    "#keyerror-called because of invalid key\n",
    "try:\n",
    "    d={1:234,'key':'asa'}\n",
    "    d['key10']\n",
    "except KeyError as e:\n",
    "    print(e)"
   ]
  },
  {
   "cell_type": "code",
   "execution_count": 15,
   "id": "cca06ec6-208f-49c2-a2ea-66b178d5dbba",
   "metadata": {},
   "outputs": [
    {
     "name": "stdout",
     "output_type": "stream",
     "text": [
      "list index out of range\n"
     ]
    }
   ],
   "source": [
    "#index error-invalid index\n",
    "x = [1, 2, 3, 4]\n",
    "try:\n",
    "    print(x[10])\n",
    "except IndexError as e:\n",
    "    print(e)"
   ]
  },
  {
   "cell_type": "markdown",
   "id": "c74bb4cf-ea1a-4a50-8b5b-1e3b24bcd28f",
   "metadata": {},
   "source": [
    "Q5. Explain ImportError. What is ModuleNotFoundError?\n",
    "\n",
    "Ans:The ImportError is raised when an import statement has trouble successfully importing the specified module. Typically, such a problem is due to an invalid or incorrect path, which will raise a ModuleNotFoundError.\n",
    "\n",
    "    "
   ]
  },
  {
   "cell_type": "markdown",
   "id": "ebecfb58-704a-4fa2-a67b-90c9e7e3d5e8",
   "metadata": {},
   "source": [
    "Q6. List down some best practices for exception handling in python.\n",
    "\n",
    "\n",
    "ans:1.Always use specific errors rather than Base class errors\n",
    "\n",
    "2.always print a valid statement while printing an error\n",
    "\n",
    "3.always try to log error because print will be available inside the console which will be gone once the system is off.\n",
    "\n",
    "4.always avoid to write  multiple exception handling  ex-writing value error log for ZeroDivisionError.\n",
    "\n",
    "5.Always try to prepare a proper documentation\n",
    "\n",
    "6.Clean up all the resources"
   ]
  }
 ],
 "metadata": {
  "kernelspec": {
   "display_name": "Python 3 (ipykernel)",
   "language": "python",
   "name": "python3"
  },
  "language_info": {
   "codemirror_mode": {
    "name": "ipython",
    "version": 3
   },
   "file_extension": ".py",
   "mimetype": "text/x-python",
   "name": "python",
   "nbconvert_exporter": "python",
   "pygments_lexer": "ipython3",
   "version": "3.10.8"
  }
 },
 "nbformat": 4,
 "nbformat_minor": 5
}
