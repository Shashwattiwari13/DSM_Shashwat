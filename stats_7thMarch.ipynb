{
 "cells": [
  {
   "cell_type": "raw",
   "id": "249ec265-b235-4209-a13a-35459a871781",
   "metadata": {},
   "source": [
    "Q1. What are the three measures of central tendency? \n",
    "\n",
    "Ans:\n",
    "\n",
    "Mean,Median,Mode"
   ]
  },
  {
   "cell_type": "raw",
   "id": "f1b8a69a-1c7a-4eba-b987-a6d2fbe8ea31",
   "metadata": {},
   "source": [
    "Q2. What is the difference between the mean, median, and mode? How are they used to measure the  central tendency of a dataset? \n",
    "\n",
    "Ans:\n",
    "Mean:It is the average of the dataset.\n",
    "\n",
    "Median:It focuses on the central element of distribution\n",
    "if number of elements are even the :\n",
    "add two middle elements and divide them by 2\n",
    "\n",
    "if odd:\n",
    "then the middle element is the median\n",
    "\n",
    "It has advantage over mean which is that after addition of outlier the change in median in very less as compared to mean\n",
    "\n",
    "Mode:Focuses more on the frequency of the element.\n",
    "The element which has appeared the most is the mode."
   ]
  },
  {
   "cell_type": "raw",
   "id": "8bdcabc5-0cc3-4194-8a2d-5407dabb83e0",
   "metadata": {},
   "source": [
    "Q3. Measure the three measures of central tendency for the given height data:  [178,177,176,177,178.2,178,175,179,180,175,178.9,176.2,177,172.5,178,176.5] "
   ]
  },
  {
   "cell_type": "code",
   "execution_count": 3,
   "id": "db5eec25-a359-4256-a14b-b1901fa7a589",
   "metadata": {},
   "outputs": [
    {
     "name": "stdout",
     "output_type": "stream",
     "text": [
      "177.01875 177.0 ModeResult(mode=array([177.]), count=array([3]))\n"
     ]
    },
    {
     "name": "stderr",
     "output_type": "stream",
     "text": [
      "/tmp/ipykernel_85/2292948934.py:7: FutureWarning: Unlike other reduction functions (e.g. `skew`, `kurtosis`), the default behavior of `mode` typically preserves the axis it acts along. In SciPy 1.11.0, this behavior will change: the default value of `keepdims` will become False, the `axis` over which the statistic is taken will be eliminated, and the value None will no longer be accepted. Set `keepdims` to True or False to avoid this warning.\n",
      "  mode=stats.mode(arr)\n"
     ]
    }
   ],
   "source": [
    "import numpy as np\n",
    "from scipy import stats\n",
    "arr=[178,177,176,177,178.2,178,175,179,180,175,178.9,176.2,177,172.5,178,176.5]\n",
    "mean=np.mean(arr)\n",
    "#print(mean)\n",
    "median=np.median(arr)\n",
    "mode=stats.mode(arr)\n",
    "print(mean,median,mode)"
   ]
  },
  {
   "cell_type": "raw",
   "id": "3b04f6e5-9d9d-4b85-bedd-ac1d32a5c2cc",
   "metadata": {},
   "source": [
    "Q4. Find the standard deviation for the given data: \n",
    "[178,177,176,177,178.2,178,175,179,180,175,178.9,176.2,177,172.5,178,176.5] \n"
   ]
  },
  {
   "cell_type": "code",
   "execution_count": 5,
   "id": "d76d9198-33ca-4aa4-8191-7ed278d020c0",
   "metadata": {},
   "outputs": [
    {
     "data": {
      "text/plain": [
       "1.7885814036548633"
      ]
     },
     "execution_count": 5,
     "metadata": {},
     "output_type": "execute_result"
    }
   ],
   "source": [
    "arr1=[178,177,176,177,178.2,178,175,179,180,175,178.9,176.2,177,172.5,178,176.5] \n",
    "std_deviation=np.std(arr1)\n",
    "std_deviation"
   ]
  },
  {
   "cell_type": "raw",
   "id": "cf9cf841-89b0-431f-986f-ec70632ee586",
   "metadata": {},
   "source": [
    "Q5. How are measures of dispersion such as range, variance, and standard deviation used to describe  the spread of a dataset? Provide an example.\n",
    "\n",
    "Ans:\n",
    "Dispersion of data used to understands the distribution of data. It helps to understand the variation of data and provides a piece of information about the distribution data.\n",
    "\n",
    "Variance:Variance measures how far each number in the dataset from the mean. \n",
    "Standard Deviation:The Standard Deviation is a measure of how spread out numbers are.\n",
    "Range:Range:The range can measure by subtracting the lowest value from the massive Number. The wide range indicates high variability, and the small range specifies low variability in the distribution.\n",
    "Example:if we want to know the highest and lowest height from a height data set then it will be easy to find if we have range."
   ]
  },
  {
   "cell_type": "raw",
   "id": "d5fd98c1-f2fa-4744-b15a-7c78f4ddcfbf",
   "metadata": {},
   "source": [
    "Q6. What is a Venn diagram? \n",
    "Ans:\n",
    "Venn diagram is an illustration that uses circles to show the relationships among things or finite groups of things."
   ]
  },
  {
   "cell_type": "raw",
   "id": "8ec38471-1dc9-4c59-bca7-b5a09edae1bc",
   "metadata": {},
   "source": [
    "Q7. For the two given sets A = (2,3,4,5,6,7) & B = (0,2,6,8,10). Find: \n",
    "(i)  A B - {2,6}\n",
    "(ii) A ⋃ B -{0,2,3,4,5,6,7,8,10}\n"
   ]
  },
  {
   "cell_type": "raw",
   "id": "db43592f-74bc-484d-a5b9-633dc59912fb",
   "metadata": {},
   "source": [
    "Q8. What do you understand about skewness in data? \n",
    "Ans:\n",
    "Skewness can be quantified as a representation of the extent to which a given distribution varies from a normal distribution. A normal distribution has a zero skew, while a lognormal distribution, for example, would exhibit some right skew."
   ]
  },
  {
   "cell_type": "raw",
   "id": "f6ea81f0-17c5-4fef-9b47-371e8b9e4f05",
   "metadata": {},
   "source": [
    "Q9. If a data is right skewed then what will be the position of median with respect to mean? \n",
    "Ans:The median will lie on the left of the mean.\n",
    "mean>median>mode"
   ]
  },
  {
   "cell_type": "raw",
   "id": "40cf81e9-441a-4762-ac88-675f90d355b5",
   "metadata": {},
   "source": [
    "Q10. Explain the difference between covariance and correlation. How are these measures used in  statistical analysis? \n",
    "Ans:\n",
    "Covariance is an indicator of the extent to which 2 random variables are dependent on each other. A higher number denotes higher dependency. \n",
    "Correlation is a statistical measure that indicates how strongly two variables are related."
   ]
  },
  {
   "cell_type": "markdown",
   "id": "3792a4dd-de5f-4a95-acf3-117dd3fc42c8",
   "metadata": {},
   "source": [
    "Q11. What is the formula for calculating the sample mean? Provide an example calculation for a  dataset. \n",
    "Ans:\n",
    "Sample mean is sum of all data points devided by the number of data points.\n"
   ]
  },
  {
   "cell_type": "code",
   "execution_count": 1,
   "id": "8f298a7f-5155-45fa-91fe-a5f5047d03d0",
   "metadata": {},
   "outputs": [
    {
     "name": "stdout",
     "output_type": "stream",
     "text": [
      "3.0\n"
     ]
    }
   ],
   "source": [
    "#example\n",
    "l=[1,2,3,4,5]\n",
    "mean=sum(l)/len(l)\n",
    "print(mean)"
   ]
  },
  {
   "cell_type": "raw",
   "id": "bf3a6166-d4f8-41bd-8391-786f32f2a72e",
   "metadata": {},
   "source": [
    "Q12. For a normal distribution data what is the relationship between its measure of central tendency?\n",
    "Ans:\n",
    "Mean=median=mode\n",
    "which will be the peak of the curve"
   ]
  },
  {
   "cell_type": "markdown",
   "id": "19769898-8265-4939-88c4-38a48c4ee138",
   "metadata": {},
   "source": [
    " Q13. How is covariance different from correlation?\n",
    " Ans:covariance can have limit from -infinity to infinity  , while correlation limit is from -1 to 1."
   ]
  },
  {
   "cell_type": "raw",
   "id": "3992255f-d0b5-4222-85a6-165a2043018d",
   "metadata": {},
   "source": [
    "Q14. How do outliers affect measures of central tendency and dispersion? Provide an example.\n",
    "Ans:Outliers affect the mean and std deviation of a data set"
   ]
  },
  {
   "cell_type": "code",
   "execution_count": 2,
   "id": "4a86aa3c-9b72-44e6-8e0e-98054e0328ef",
   "metadata": {},
   "outputs": [
    {
     "name": "stdout",
     "output_type": "stream",
     "text": [
      "noram mean  2.5\n",
      "outlier mean  22.0\n",
      "normal std  1.118033988749895\n",
      "outlier std  39.01281840626232\n"
     ]
    }
   ],
   "source": [
    "import numpy as np\n",
    "l=[1,2,3,4]\n",
    "outlier=[1,2,3,4,100]\n",
    "print(\"noram mean \",np.mean(l))\n",
    "print(\"outlier mean \",np.mean(outlier))\n",
    "print(\"normal std \",np.std(l))\n",
    "print(\"outlier std \",np.std(outlier))"
   ]
  },
  {
   "cell_type": "code",
   "execution_count": null,
   "id": "81fd702f-3af5-4876-9410-b93c090e340e",
   "metadata": {},
   "outputs": [],
   "source": []
  }
 ],
 "metadata": {
  "kernelspec": {
   "display_name": "Python 3 (ipykernel)",
   "language": "python",
   "name": "python3"
  },
  "language_info": {
   "codemirror_mode": {
    "name": "ipython",
    "version": 3
   },
   "file_extension": ".py",
   "mimetype": "text/x-python",
   "name": "python",
   "nbconvert_exporter": "python",
   "pygments_lexer": "ipython3",
   "version": "3.10.8"
  }
 },
 "nbformat": 4,
 "nbformat_minor": 5
}
