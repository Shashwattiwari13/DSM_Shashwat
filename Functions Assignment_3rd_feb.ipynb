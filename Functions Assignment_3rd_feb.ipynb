{
 "cells": [
  {
   "cell_type": "markdown",
   "id": "f3de877b",
   "metadata": {},
   "source": [
    "Q1. Which keyword is used to create a function? Create a function to return a list of odd numbers in the range of 1 to 25.\n",
    "Ans: def keyword is used to create a function in python"
   ]
  },
  {
   "cell_type": "code",
   "execution_count": 1,
   "id": "518f7c8a",
   "metadata": {},
   "outputs": [
    {
     "data": {
      "text/plain": [
       "[1, 3, 5, 7, 9, 11, 13, 15, 17, 19, 21, 23, 25]"
      ]
     },
     "execution_count": 1,
     "metadata": {},
     "output_type": "execute_result"
    }
   ],
   "source": [
    "def odd_num():\n",
    "    l=[i for i in range(1,26) if i%2!=0]\n",
    "    return l\n",
    "odd_num()"
   ]
  },
  {
   "cell_type": "markdown",
   "id": "cdd6e546",
   "metadata": {},
   "source": [
    "Why *args and **kwargs is used in some functions? Create a function each for *args and **kwargs to\n",
    "demonstrate their use.\n",
    "Ans: *args is used when we want to give muliple inputs to a python fucntion \n",
    "**kwargs is used when we want to take n number of inputs in key value pair format\n"
   ]
  },
  {
   "cell_type": "markdown",
   "id": "d238c309",
   "metadata": {},
   "source": [
    "Example for *args"
   ]
  },
  {
   "cell_type": "code",
   "execution_count": 2,
   "id": "da3003c3",
   "metadata": {},
   "outputs": [
    {
     "data": {
      "text/plain": [
       "(5, [1, 2, 3, 4, 'skills', [1, 2, 3, 4, 5]])"
      ]
     },
     "execution_count": 2,
     "metadata": {},
     "output_type": "execute_result"
    }
   ],
   "source": [
    "def test5(*args):\n",
    "    return args\n",
    "test5(5,[1,2,3,4,'skills',[1,2,3,4,5]])"
   ]
  },
  {
   "cell_type": "markdown",
   "id": "1d7a5af6",
   "metadata": {},
   "source": [
    "Example for **kwargs"
   ]
  },
  {
   "cell_type": "code",
   "execution_count": 3,
   "id": "f93192fd",
   "metadata": {},
   "outputs": [
    {
     "name": "stdout",
     "output_type": "stream",
     "text": [
      "{'a': 1, 'b': 'asas', 'c': [1, 3, 4], 'd': {'pw', 'skills'}}\n"
     ]
    }
   ],
   "source": [
    "def test6(**kwargs):\n",
    "    return kwargs\n",
    "result=test6(a=1,b='asas',c=[1,3,4],d={'skills','pw'})\n",
    "print(result)"
   ]
  },
  {
   "cell_type": "markdown",
   "id": "883d7a24",
   "metadata": {},
   "source": [
    "What is an iterator in python? Name the method used to initialise the iterator object and the method\n",
    "used for iteration. Use these methods to print the first five elements of the given \n",
    "list [2, 4, 6, 8, 10, 12, 14, 16,18, 20].\n",
    "Ans:Iterator in Python is an object that is used to iterate over iterable objects like lists, tuples, dicts, and sets.\n",
    "The iterator object is initialized using the iter() method. It uses the next() method for iteration."
   ]
  },
  {
   "cell_type": "code",
   "execution_count": 9,
   "id": "6e4d6b90",
   "metadata": {},
   "outputs": [
    {
     "name": "stdout",
     "output_type": "stream",
     "text": [
      "2\n",
      "4\n",
      "6\n",
      "8\n",
      "10\n"
     ]
    }
   ],
   "source": [
    "#methods to print the first five elements\n",
    "list= [2, 4, 6, 8, 10, 12, 14, 16,18, 20]\n",
    "i=iter(list)\n",
    "print(next(i))\n",
    "print(next(i))\n",
    "print(next(i))\n",
    "print(next(i))\n",
    "print(next(i))"
   ]
  },
  {
   "cell_type": "markdown",
   "id": "fb7450ef",
   "metadata": {},
   "source": [
    "What is a generator function in python? Why yield keyword is used? Give an example of a generator\n",
    "function.\n",
    "Ans: A generator is a function that returns an iterator that produces a sequence of values when\n",
    "iterated over.\n",
    "yield keyword is used to create a generator function.The yield keyword will turn any expression that is given with it into a generator object and return it to the caller.\n"
   ]
  },
  {
   "cell_type": "code",
   "execution_count": null,
   "id": "c1801ffc",
   "metadata": {},
   "outputs": [],
   "source": [
    "example of generator function\n"
   ]
  },
  {
   "cell_type": "code",
   "execution_count": 13,
   "id": "c4590193",
   "metadata": {},
   "outputs": [
    {
     "name": "stdout",
     "output_type": "stream",
     "text": [
      "4 6 "
     ]
    }
   ],
   "source": [
    "def even(l):\n",
    "    for i in l:\n",
    "        if i%2==0:\n",
    "            yield i\n",
    "l=[1, 4, 5, 6, 7]\n",
    "for j in even(l):\n",
    "    print(j,end=' ')\n",
    "            "
   ]
  },
  {
   "cell_type": "markdown",
   "id": "254a097f",
   "metadata": {},
   "source": [
    "Q5. Create a generator function for prime numbers less than 1000. Use the next() method to print the\n",
    "first 20 prime numbers."
   ]
  },
  {
   "cell_type": "code",
   "execution_count": 22,
   "id": "c22c2ed9",
   "metadata": {},
   "outputs": [
    {
     "name": "stdout",
     "output_type": "stream",
     "text": [
      "2 3 5 7 11 13 17 19 23 29 31 37 41 43 47 53 59 61 67 71 73 79 83 89 97 101 103 107 109 113 127 131 137 139 149 151 157 163 167 173 179 181 191 193 197 199 211 223 227 229 233 239 241 251 257 263 269 271 277 281 283 293 307 311 313 317 331 337 347 349 353 359 367 373 379 383 389 397 401 409 419 421 431 433 439 443 449 457 461 463 467 479 487 491 499 503 509 521 523 541 547 557 563 569 571 577 587 593 599 601 607 613 617 619 631 641 643 647 653 659 661 673 677 683 691 701 709 719 727 733 739 743 751 757 761 769 773 787 797 809 811 821 823 827 829 839 853 857 859 863 877 881 883 887 907 911 919 929 937 941 947 953 967 971 977 983 991 997 "
     ]
    }
   ],
   "source": [
    "def prime():\n",
    "    for i in range(2,1000):\n",
    "        for j in range(2,i):\n",
    "            if i%j==0:\n",
    "                break\n",
    "        else:\n",
    "            yield i\n",
    "for z in prime():\n",
    "    print(z,end=' ')\n",
    "            "
   ]
  },
  {
   "cell_type": "code",
   "execution_count": null,
   "id": "b232aa5c",
   "metadata": {},
   "outputs": [],
   "source": []
  },
  {
   "cell_type": "code",
   "execution_count": null,
   "id": "1825c422",
   "metadata": {},
   "outputs": [],
   "source": []
  }
 ],
 "metadata": {
  "kernelspec": {
   "display_name": "Python 3",
   "language": "python",
   "name": "python3"
  },
  "language_info": {
   "codemirror_mode": {
    "name": "ipython",
    "version": 3
   },
   "file_extension": ".py",
   "mimetype": "text/x-python",
   "name": "python",
   "nbconvert_exporter": "python",
   "pygments_lexer": "ipython3",
   "version": "3.7.4"
  }
 },
 "nbformat": 4,
 "nbformat_minor": 5
}
