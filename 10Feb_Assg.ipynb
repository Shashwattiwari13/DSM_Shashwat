{
 "cells": [
  {
   "cell_type": "markdown",
   "id": "b98ea227-8fe3-4317-ac33-d5a6f2ab403b",
   "metadata": {},
   "source": [
    "Q1. Which function is used to open a file? What are the different modes of opening a file? Explain each mode\n",
    "of file opening."
   ]
  },
  {
   "cell_type": "code",
   "execution_count": 1,
   "id": "7478154d-33bc-4d2b-8b90-8234a356c6dd",
   "metadata": {},
   "outputs": [],
   "source": [
    "#open function is used to open a file\n",
    "#to open a file\n",
    "#f=open('test'text')\n",
    "\n",
    "# to write a file \n",
    "f=open('test.txt','w')\n",
    "\n"
   ]
  },
  {
   "cell_type": "code",
   "execution_count": 2,
   "id": "78b357b4-f1b1-4ab0-9937-8cd35831d2c8",
   "metadata": {},
   "outputs": [
    {
     "data": {
      "text/plain": [
       "21"
      ]
     },
     "execution_count": 2,
     "metadata": {},
     "output_type": "execute_result"
    }
   ],
   "source": [
    "#to write text in the file\n",
    "f.write('this is a sample text')\n"
   ]
  },
  {
   "cell_type": "code",
   "execution_count": 6,
   "id": "3c539c2c-e264-428a-9c2f-2ebfdb7e7238",
   "metadata": {},
   "outputs": [],
   "source": [
    "#to close a file\n",
    "f.close()"
   ]
  },
  {
   "cell_type": "code",
   "execution_count": 7,
   "id": "dd773ab6-c5c6-4359-9c44-f9eca893a099",
   "metadata": {},
   "outputs": [],
   "source": [
    "#to read a file\n",
    "data=open('test.txt','r')"
   ]
  },
  {
   "cell_type": "code",
   "execution_count": 8,
   "id": "63c2c2f3-0dc4-49b4-8274-21c9d8ce0c8f",
   "metadata": {},
   "outputs": [
    {
     "data": {
      "text/plain": [
       "'this is a sample text'"
      ]
     },
     "execution_count": 8,
     "metadata": {},
     "output_type": "execute_result"
    }
   ],
   "source": [
    "data.read()"
   ]
  },
  {
   "cell_type": "code",
   "execution_count": 11,
   "id": "84b7c7c1-2c75-40c8-94de-96c1654fc570",
   "metadata": {},
   "outputs": [],
   "source": [
    "#'x'\tOpen a file for exclusive creation. If the file already exists, the operation fails.\n",
    "#to append a data into the file \n",
    "#f=open('filename.txt','a')\n",
    "\n",
    "#to open a file in text mode\n",
    "#f=open('filename.txt','t')\n",
    "\n",
    "#to open a file in binary mode\n",
    "#f=open('filename.txt','b')\n",
    "\n"
   ]
  },
  {
   "cell_type": "markdown",
   "id": "4dc415ff-df4b-40bb-9faa-c3bc9acf2caa",
   "metadata": {},
   "source": [
    "Q2. Why close() function is used? Why is it important to close a file?\n",
    "Ans:close function is used to close the current file.\n",
    "    file once closed could not be written or read again.\n",
    "    It is important to close a file in python because if you don't close a file after writing the data won't get entered in \n",
    "    file.\n",
    "    "
   ]
  },
  {
   "cell_type": "markdown",
   "id": "4620cd2e-743d-440f-8f97-a34b44d6f24d",
   "metadata": {},
   "source": [
    "Q3. Write a python program to create a text file. Write ‘I want to become a Data Scientist’ in that file. Then\n",
    "close the file. Open this file and read the content of the file."
   ]
  },
  {
   "cell_type": "code",
   "execution_count": 13,
   "id": "b5e9a2b7-1e94-431a-9a1f-b535e84828ac",
   "metadata": {},
   "outputs": [],
   "source": [
    "f=open('test1.txt','w')"
   ]
  },
  {
   "cell_type": "code",
   "execution_count": 14,
   "id": "784a24d4-69f9-4a45-932e-59cb9e813bf0",
   "metadata": {},
   "outputs": [
    {
     "data": {
      "text/plain": [
       "33"
      ]
     },
     "execution_count": 14,
     "metadata": {},
     "output_type": "execute_result"
    }
   ],
   "source": [
    "f.write('I want to become a Data Scientist')"
   ]
  },
  {
   "cell_type": "code",
   "execution_count": 15,
   "id": "2e0d3c9d-7289-4fe9-81fa-0299e41974d3",
   "metadata": {},
   "outputs": [],
   "source": [
    "f.close()"
   ]
  },
  {
   "cell_type": "code",
   "execution_count": 16,
   "id": "4c73181e-0305-45d1-bd2e-14cabb2c7661",
   "metadata": {},
   "outputs": [],
   "source": [
    "d=open('test1.txt','r')"
   ]
  },
  {
   "cell_type": "code",
   "execution_count": 17,
   "id": "d8e02eab-1254-4994-87b4-010e5ab4e5d0",
   "metadata": {},
   "outputs": [
    {
     "data": {
      "text/plain": [
       "'I want to become a Data Scientist'"
      ]
     },
     "execution_count": 17,
     "metadata": {},
     "output_type": "execute_result"
    }
   ],
   "source": [
    "d.read()"
   ]
  },
  {
   "cell_type": "markdown",
   "id": "a729baa3-c13b-4a48-9677-e523f3ff1208",
   "metadata": {},
   "source": [
    "Q4. Explain the following with python code: read(), readline() and readlines()."
   ]
  },
  {
   "cell_type": "code",
   "execution_count": null,
   "id": "c14bae32-7e19-4085-95da-10c353fa69f6",
   "metadata": {},
   "outputs": [],
   "source": [
    "#read will read the data that is present in the file\n",
    "#Python readline() method will return a line from the file when called.\n",
    "#readlines() method will return all the lines in a file in the format of a list where each element is a line in the file."
   ]
  },
  {
   "cell_type": "code",
   "execution_count": 18,
   "id": "57494253-ad9d-41a7-9280-d5d86d90ce34",
   "metadata": {},
   "outputs": [],
   "source": [
    "f=open('test2.txt','w')"
   ]
  },
  {
   "cell_type": "code",
   "execution_count": 19,
   "id": "00349282-e067-46eb-a03b-6057856dd864",
   "metadata": {},
   "outputs": [
    {
     "data": {
      "text/plain": [
       "398"
      ]
     },
     "execution_count": 19,
     "metadata": {},
     "output_type": "execute_result"
    }
   ],
   "source": [
    "f.write('Data Science Masters course is highly curated and uniquely designed according to the latest industry standards. This program instills students the skills essential to knowledge discovery efforts to identify standard, novel, and truly differentiated solutions and decision-making, including skills in managing, querying, analyzing, visualizing, and extracting meaning from extremely large data sets.')"
   ]
  },
  {
   "cell_type": "code",
   "execution_count": 20,
   "id": "5e97b4e5-5e2c-4339-82f6-c60014e8af24",
   "metadata": {},
   "outputs": [],
   "source": [
    "f.close()"
   ]
  },
  {
   "cell_type": "code",
   "execution_count": 21,
   "id": "74cc7e7b-b98d-4f32-baa4-6ab0c10dc6d1",
   "metadata": {},
   "outputs": [],
   "source": [
    "d=open('test2.txt','r')\n"
   ]
  },
  {
   "cell_type": "code",
   "execution_count": 22,
   "id": "196beafb-b91f-48de-b144-a22c82bbcfe7",
   "metadata": {},
   "outputs": [
    {
     "data": {
      "text/plain": [
       "'Data Science Masters course is highly curated and uniquely designed according to the latest industry standards. This program instills students the skills essential to knowledge discovery efforts to identify standard, novel, and truly differentiated solutions and decision-making, including skills in managing, querying, analyzing, visualizing, and extracting meaning from extremely large data sets.'"
      ]
     },
     "execution_count": 22,
     "metadata": {},
     "output_type": "execute_result"
    }
   ],
   "source": [
    "d.read()"
   ]
  },
  {
   "cell_type": "code",
   "execution_count": 35,
   "id": "969cb226-ffcd-4252-aca1-e02e955e92c1",
   "metadata": {},
   "outputs": [],
   "source": [
    "d2=open('test2.txt','r')"
   ]
  },
  {
   "cell_type": "code",
   "execution_count": null,
   "id": "edc5468b-1cd1-474b-9af1-bafc259972d7",
   "metadata": {},
   "outputs": [
    {
     "data": {
      "text/plain": [
       "['Data Science Masters course is highly curated and uniquely designed according to the latest industry standards. This program instills students the skills essential to knowledge discovery efforts to identify standard, novel, and truly differentiated solutions and decision-making, including skills in managing, querying, analyzing, visualizing, and extracting meaning from extremely large data sets.']"
      ]
     },
     "execution_count": 36,
     "metadata": {},
     "output_type": "execute_result"
    }
   ],
   "source": [
    "d2.readlines()"
   ]
  },
  {
   "cell_type": "markdown",
   "id": "7d9c00c2-cae1-42e3-8d5c-8611b568dc1c",
   "metadata": {},
   "source": [
    "Q5. Explain why with statement is used with open(). What is the advantage of using with statement and\n",
    "open() together?\n",
    "\n",
    "Ans:#5\n",
    "with statement is used in exception handling to make the code cleaner and much more readable. It simplifies the management of common resources like file streams.\n",
    "Using with means that the file will be closed as soon as you leave the block."
   ]
  },
  {
   "cell_type": "markdown",
   "id": "fe6ad936-0938-4fab-b0e8-674f7ebe69ed",
   "metadata": {},
   "source": [
    "Q6. Explain the write() and writelines() functions. Give a suitable example.\n",
    "The write() function will write the content in the file without adding any extra characters.\n",
    "writelines() function\n",
    "This function writes the content of a list to a file.\n",
    "The only difference between the write() and writelines() is that write() is used to write a string to an already opened file while writelines() method is used to write a list of strings in an opened file."
   ]
  },
  {
   "cell_type": "code",
   "execution_count": 40,
   "id": "09a01033-a56b-433b-8021-72b7deb743cf",
   "metadata": {},
   "outputs": [
    {
     "name": "stdin",
     "output_type": "stream",
     "text": [
      "enter name of student shashwat\n",
      "enter name of student suyash\n",
      "enter name of student rab\n"
     ]
    }
   ],
   "source": [
    "#write example\n",
    "f=open('students.txt','w')\n",
    "\n",
    "for i in range(3):\n",
    "    name=input('enter name of student')\n",
    "    f.write(name)\n",
    "    f.write(\"\\n\")\n",
    "    \n",
    "f.close()"
   ]
  },
  {
   "cell_type": "code",
   "execution_count": 42,
   "id": "97443d8a-1844-40cd-bd6c-2f70fc390a66",
   "metadata": {},
   "outputs": [
    {
     "name": "stdin",
     "output_type": "stream",
     "text": [
      "enter name of student dafsfds\n",
      "enter name of student afasaf\n",
      "enter name of student asfafass\n"
     ]
    }
   ],
   "source": [
    "#writelines()\n",
    "f1=open('students1.txt','w')\n",
    "l=[]\n",
    "for i in range(3):\n",
    "    name=input('enter name of student')\n",
    "    l.append(name+ '\\n')\n",
    "f1.writelines(l)\n",
    "f1.close()\n"
   ]
  },
  {
   "cell_type": "code",
   "execution_count": null,
   "id": "65c74352-3ba1-44be-906e-cae1b8ff2b3d",
   "metadata": {},
   "outputs": [],
   "source": []
  }
 ],
 "metadata": {
  "kernelspec": {
   "display_name": "Python 3 (ipykernel)",
   "language": "python",
   "name": "python3"
  },
  "language_info": {
   "codemirror_mode": {
    "name": "ipython",
    "version": 3
   },
   "file_extension": ".py",
   "mimetype": "text/x-python",
   "name": "python",
   "nbconvert_exporter": "python",
   "pygments_lexer": "ipython3",
   "version": "3.10.8"
  }
 },
 "nbformat": 4,
 "nbformat_minor": 5
}
