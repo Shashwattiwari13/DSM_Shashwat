{
 "cells": [
  {
   "cell_type": "markdown",
   "id": "757961d2-d98c-4a5f-a65f-e63c779fdd5b",
   "metadata": {},
   "source": [
    "Q1. What is an API? Give an example, where an API is used in real life.\n",
    "\n",
    "Ans:\n",
    "\n",
    "API is application programming Inteface which is used to communicate between two software applications.\n",
    "APIs are an accessible way to extract and share data within and across organizations.\n",
    "\n",
    "Example:\n",
    "Ola cab uses APIs to ineteract with Google Maps so as to get the location of the customer who has booked a ride."
   ]
  },
  {
   "cell_type": "markdown",
   "id": "c215a5f8-17eb-4090-a5b9-f460675b8cea",
   "metadata": {},
   "source": [
    "Q2. Give advantages and disadvantages of using API.\n",
    "\n",
    "Ans:\n",
    "\n",
    "Advantages of APIs:\n",
    "\n",
    "Applications: Access to APIs ensures more flexibility in information-transfer processes.\n",
    "\n",
    "Reach: APIs let you create layers in apps in order to distribute information to different audiences.\n",
    "\n",
    "Adaptability: One of the greatest benefits of APIs is the ability it has to adapt to changes through data migration and flexibility of services.\n",
    "\n",
    "\n",
    "Disadvantages of APIs:\n",
    "\n",
    " As a single point of entry, an API is a gateway and can become a hacker's primary target. Once the API is compromised, all other applications and systems become vulnerable.\n",
    "\n"
   ]
  },
  {
   "cell_type": "markdown",
   "id": "9246e22e-cbe7-42a5-8525-e1af3f79f566",
   "metadata": {},
   "source": [
    "Q3. What is a Web API? Differentiate between API and Web API.\n",
    "\n",
    "Ans:\n",
    "\n",
    "Web APIs are a subset of APIs through which one can communicate between two hetrogenous or homegenous applications.\n",
    "\n",
    "The main difference between a Web API and API is that API uses TCP,SMTAP,HTTP protocol whereas Web API uses only HTTP protocol."
   ]
  },
  {
   "cell_type": "markdown",
   "id": "83c91ee5-bc20-4b60-b734-518ebe5f1ca8",
   "metadata": {},
   "source": [
    "Q4&Q5. Explain REST and SOAP Architecture. Mention shortcomings of SOAP.\n",
    "\n",
    "Ans:\n",
    "REST is Representational State Transfer is an architectural style which defines guidelines for creating webservices.\n",
    "SOAP is a protocol for sending and receiving messages between applications.\n",
    "\n",
    "REST APIs are more flexible,Scalable and provide simplicity as compared to SOAP. They use HTTP protocol.\n",
    "\n",
    "SOAP API are more secured as compared to REST APIs and use SMTP and TCP protocols.  They also use XML.\n"
   ]
  },
  {
   "cell_type": "code",
   "execution_count": null,
   "id": "1da3b2aa-1779-4e22-bf19-fef7bba302a5",
   "metadata": {},
   "outputs": [],
   "source": []
  },
  {
   "cell_type": "code",
   "execution_count": null,
   "id": "9eb8a3c8-f68e-4ebb-9d3c-2c20b3aa15a3",
   "metadata": {},
   "outputs": [],
   "source": []
  },
  {
   "cell_type": "code",
   "execution_count": null,
   "id": "79d98c42-d79a-4287-9103-38e99feb3847",
   "metadata": {},
   "outputs": [],
   "source": []
  },
  {
   "cell_type": "code",
   "execution_count": null,
   "id": "3107b283-e9b9-4479-b20c-a252642a8bfd",
   "metadata": {},
   "outputs": [],
   "source": []
  }
 ],
 "metadata": {
  "kernelspec": {
   "display_name": "Python 3 (ipykernel)",
   "language": "python",
   "name": "python3"
  },
  "language_info": {
   "codemirror_mode": {
    "name": "ipython",
    "version": 3
   },
   "file_extension": ".py",
   "mimetype": "text/x-python",
   "name": "python",
   "nbconvert_exporter": "python",
   "pygments_lexer": "ipython3",
   "version": "3.10.8"
  }
 },
 "nbformat": 4,
 "nbformat_minor": 5
}
