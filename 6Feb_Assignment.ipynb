{
 "cells": [
  {
   "cell_type": "markdown",
   "id": "37ea16cd",
   "metadata": {},
   "source": [
    "Q1. Create a function which will take a list as an argument and return the product of all the numbers\n",
    "after creating a flat list.\n",
    "Use the below-given list as an argument for your function.\n",
    "list1 = [1,2,3,4, [44,55,66, True], False, (34,56,78,89,34), {1,2,3,3,2,1}, {1:34, \"key2\": [55, 67, 78, 89], 4: (45,\n",
    "22, 61, 34)}, [56, 'data science'], 'Machine Learning']\n",
    "Note: you must extract numeric keys and values of the dictionary also."
   ]
  },
  {
   "cell_type": "code",
   "execution_count": 47,
   "id": "e9ee1b07",
   "metadata": {},
   "outputs": [
    {
     "name": "stdout",
     "output_type": "stream",
     "text": [
      "4134711838987085478833841242112000\n"
     ]
    }
   ],
   "source": [
    "from functools import reduce \n",
    "def prod_int_numbers(l):\n",
    "    f=[]\n",
    "    for i in l:\n",
    "        if type(i)!=list:\n",
    "            f.append(i)\n",
    "        elif type(i)==list:\n",
    "            for j in i:\n",
    "                f.append(j)\n",
    "    x=[]\n",
    "    for i in f:\n",
    "        if type(i)==tuple:\n",
    "            for j in i:\n",
    "                if type(j)==int:\n",
    "                    x.append(j)\n",
    "        elif type(i)==set:\n",
    "            for k in i:\n",
    "                if type(k)==int:\n",
    "                    x.append(k)\n",
    "        elif type(i)==dict:\n",
    "            for j in i.keys():\n",
    "                if type(j)==int:\n",
    "                    x.append(j)\n",
    "            for k in i.values():\n",
    "                if type(k)==list:\n",
    "                    x.extend(k)\n",
    "                elif type(k)==tuple:\n",
    "                    for o in k:\n",
    "                        if type(o)==int:\n",
    "                             x.append(o)\n",
    "                elif type(k)==int:\n",
    "                    x.append(k)\n",
    "        elif type(i)==int:\n",
    "            x.append(i)\n",
    "    result=reduce(lambda a,b:a*b, x)\n",
    "    return result\n",
    "l=l = [1,2,3,4, [44,55,66, True], False, (34,56,78,89,34), {1,2,3,3,2,1}, {1:34, \"key2\": [55, 67, 78, 89], 4: (45,\n",
    "22, 61, 34)}, [56, 'data science'], 'Machine Learning']\n",
    "result=prod_int_numbers(l)\n",
    "print(result)\n",
    "\n",
    "    \n",
    "\n",
    "    \n"
   ]
  },
  {
   "cell_type": "markdown",
   "id": "995a4ad9",
   "metadata": {},
   "source": [
    "Q2. Write a python program for encrypting a message sent to you by your friend. The logic of encryption should be such that, for a the output should be z. For b, the output should be y. For c, the output should be x respectively. Also, the whitespace should be replaced with a dollar sign. Keep the punctuation marks unchanged.\n",
    "Input Sentence: I want to become a Data Scientist.\n",
    "Encrypt the above input sentence using the program you just created.\n",
    "Note: Convert the given input sentence into lowercase before encrypting. The final output should be\n",
    "lowercase."
   ]
  },
  {
   "cell_type": "code",
   "execution_count": 77,
   "id": "d1aabdbb",
   "metadata": {},
   "outputs": [
    {
     "name": "stdout",
     "output_type": "stream",
     "text": [
      "i$wznt$to$yexome$z$dztz$sxientist.\n"
     ]
    }
   ],
   "source": [
    "s='I want to become a Data Scientist.'\n",
    "s1=s.lower()\n",
    "l1=list(s1)\n",
    "l2=[]\n",
    "for i in l1:\n",
    "    if i=='a':\n",
    "        l2.append('z')\n",
    "    elif i=='b':\n",
    "        l2.append('y')\n",
    "    elif i=='c':\n",
    "        l2.append('x')\n",
    "    elif i==' ':\n",
    "        l2.append('$')\n",
    "    else:\n",
    "        l2.append(i)\n",
    "s2=''\n",
    "print(s2.join(l2))\n"
   ]
  },
  {
   "cell_type": "code",
   "execution_count": null,
   "id": "d2530648",
   "metadata": {},
   "outputs": [],
   "source": []
  }
 ],
 "metadata": {
  "kernelspec": {
   "display_name": "Python 3",
   "language": "python",
   "name": "python3"
  },
  "language_info": {
   "codemirror_mode": {
    "name": "ipython",
    "version": 3
   },
   "file_extension": ".py",
   "mimetype": "text/x-python",
   "name": "python",
   "nbconvert_exporter": "python",
   "pygments_lexer": "ipython3",
   "version": "3.7.4"
  }
 },
 "nbformat": 4,
 "nbformat_minor": 5
}
