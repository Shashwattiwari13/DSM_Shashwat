{
 "cells": [
  {
   "cell_type": "markdown",
   "id": "ebac795f-6e9d-4009-80d7-ac7e1c464f36",
   "metadata": {},
   "source": [
    "Q1, Create a vehicle class with an init method having instance variables as name_of_vehicle, max_speed\n",
    "and average_of_vehicle."
   ]
  },
  {
   "cell_type": "code",
   "execution_count": 18,
   "id": "8acb9643-f510-490b-8226-501f640d48f0",
   "metadata": {},
   "outputs": [],
   "source": [
    "class vehicle:\n",
    "    def __init__(self,name_of_vehicle,max_speed,average_of_vehicle):\n",
    "        self.name_of_vehicle=name_of_vehicle\n",
    "        self.max_speed=max_speed\n",
    "        self.average_of_vehicle=average_of_vehicle\n",
    "v=vehicle('bmw',200,12)"
   ]
  },
  {
   "cell_type": "markdown",
   "id": "d589dd32-e19f-47f2-8410-172b63e143ef",
   "metadata": {},
   "source": [
    "Q2. Create a child class car from the vehicle class created in Que 1, which will inherit the vehicle class.\n",
    "Create a method named seating_capacity which takes capacity as an argument and returns the name of\n",
    "the vehicle and its seating capacity."
   ]
  },
  {
   "cell_type": "code",
   "execution_count": 31,
   "id": "33a65835-e792-4477-8880-e16711ca63db",
   "metadata": {},
   "outputs": [],
   "source": [
    "class car(vehicle):\n",
    "    def seating_capacity(self,capacity):\n",
    "        self.capacity=capacity\n",
    "        return (capacity)\n",
    "    "
   ]
  },
  {
   "cell_type": "code",
   "execution_count": 32,
   "id": "55e422c5-c68f-4d44-b546-07fbb649c5f0",
   "metadata": {},
   "outputs": [
    {
     "name": "stdout",
     "output_type": "stream",
     "text": [
      "2 bmw\n"
     ]
    }
   ],
   "source": [
    "c=car('bmw',200,12)\n",
    "print(c.seating_capacity(2),c.name_of_vehicle)\n"
   ]
  },
  {
   "cell_type": "markdown",
   "id": "8246c105-e18e-4b89-895f-fc9bf1925b16",
   "metadata": {},
   "source": [
    "Q3. What is multiple inheritance? Write a python code to demonstrate multiple inheritance."
   ]
  },
  {
   "cell_type": "code",
   "execution_count": 35,
   "id": "f608b8fe-c140-414a-935c-1226b79bab96",
   "metadata": {},
   "outputs": [],
   "source": [
    "#if a child class can inherit from 2  multiple classes \n",
    "class A:\n",
    "    def fromA(self):\n",
    "        print('from parent A')\n",
    "class B:\n",
    "    def fromB(self):\n",
    "        print('from parent B')\n",
    "class C(A,B):\n",
    "    def fromC(self):\n",
    "        print('from child C')\n"
   ]
  },
  {
   "cell_type": "code",
   "execution_count": 36,
   "id": "40ac0832-e808-48e4-ada3-20bf83495fb6",
   "metadata": {},
   "outputs": [
    {
     "name": "stdout",
     "output_type": "stream",
     "text": [
      "from parent A\n",
      "from parent B\n",
      "from child C\n"
     ]
    }
   ],
   "source": [
    "x=C()\n",
    "x.fromA()\n",
    "x.fromB()\n",
    "x.fromC()\n",
    "#the child is able to access methods from both the parents"
   ]
  },
  {
   "cell_type": "markdown",
   "id": "43024037-1a33-472b-95a1-e40d9fb69126",
   "metadata": {},
   "source": [
    "Q4. What are getter and setter in python? Create a class and create a getter and a setter method in this\n",
    "class."
   ]
  },
  {
   "cell_type": "code",
   "execution_count": 48,
   "id": "7b474435-18d2-4238-9de0-6d62c0ec74f7",
   "metadata": {},
   "outputs": [
    {
     "ename": "SyntaxError",
     "evalue": "invalid syntax (3076975156.py, line 15)",
     "output_type": "error",
     "traceback": [
      "\u001b[0;36m  Cell \u001b[0;32mIn[48], line 15\u001b[0;36m\u001b[0m\n\u001b[0;31m    return self.__price=price\u001b[0m\n\u001b[0m                       ^\u001b[0m\n\u001b[0;31mSyntaxError\u001b[0m\u001b[0;31m:\u001b[0m invalid syntax\n"
     ]
    }
   ],
   "source": [
    "#getter and setter in python are properties which are used to get and set the values of private method \n",
    "#or attribute of parent class by providing a decorator just above the method which will set or get the private values of \n",
    "#the class\n",
    "class vehicle:\n",
    "    def __init__(self,name,price):\n",
    "        self.name=name\n",
    "        self.__price=price\n",
    "    \n",
    "    @property\n",
    "    def get_price(self):\n",
    "        return self.__price\n",
    "    \n",
    "    @get_price.setter\n",
    "    def set_price(self,price):\n",
    "        return self.__price=price\n",
    "        "
   ]
  },
  {
   "cell_type": "code",
   "execution_count": 46,
   "id": "d821f911-1d89-4b4d-9080-fb38b8621149",
   "metadata": {},
   "outputs": [
    {
     "data": {
      "text/plain": [
       "2000000"
      ]
     },
     "execution_count": 46,
     "metadata": {},
     "output_type": "execute_result"
    }
   ],
   "source": [
    "v=vehicle('bmw',2000000)\n",
    "v.get_price"
   ]
  },
  {
   "cell_type": "code",
   "execution_count": 49,
   "id": "37a24092-1b55-4317-8b83-7b144f372a34",
   "metadata": {},
   "outputs": [],
   "source": [
    "v.set_price=30000000"
   ]
  },
  {
   "cell_type": "code",
   "execution_count": 50,
   "id": "5667b5cc-aa6f-498b-99ed-75227e39c49e",
   "metadata": {},
   "outputs": [
    {
     "data": {
      "text/plain": [
       "30000000"
      ]
     },
     "execution_count": 50,
     "metadata": {},
     "output_type": "execute_result"
    }
   ],
   "source": [
    "v.get_price#here we were able to change the value of a private attribute "
   ]
  },
  {
   "cell_type": "markdown",
   "id": "0f5e65a6-a376-4dbd-8cd7-2470aa45ff41",
   "metadata": {},
   "source": [
    "Q5.What is method overriding in python? Write a python code to demonstrate method overriding."
   ]
  },
  {
   "cell_type": "markdown",
   "id": "f94b351a-80a0-4e3a-8e23-359b096fde17",
   "metadata": {},
   "source": [
    "ability of a oop in which a child class is able to provide specific implementation of method whose implementation has already been provided in the parent class provided the method in child class has same name,parameter,return type as the parent class.\n",
    "\n",
    "If an object of a parent class is used to invoke the method, then the version in the parent class will be executed, but if an object of the subclass is used to invoke the method, then the version in the child class will be executed. "
   ]
  },
  {
   "cell_type": "code",
   "execution_count": 51,
   "id": "ed626cd8-8752-4546-9002-5e0b252157b7",
   "metadata": {},
   "outputs": [],
   "source": [
    "#example\n",
    "class parent:\n",
    "    def show(self):\n",
    "        print('inside parent')\n",
    "class child(parent):\n",
    "    def show(self):\n",
    "        print('inside child')\n",
    "c=child()"
   ]
  },
  {
   "cell_type": "code",
   "execution_count": 52,
   "id": "66e0ed53-73be-4952-a6b8-246c1ea2119f",
   "metadata": {},
   "outputs": [
    {
     "name": "stdout",
     "output_type": "stream",
     "text": [
      "inside child\n"
     ]
    }
   ],
   "source": [
    "c.show()"
   ]
  },
  {
   "cell_type": "code",
   "execution_count": 53,
   "id": "6e3e4821-632c-4963-9d8f-d8fae52f5028",
   "metadata": {},
   "outputs": [],
   "source": [
    "p=parent()"
   ]
  },
  {
   "cell_type": "code",
   "execution_count": 55,
   "id": "8f00001e-b7f9-4dbc-b14c-abbb8ec8ef29",
   "metadata": {},
   "outputs": [
    {
     "name": "stdout",
     "output_type": "stream",
     "text": [
      "inside parent\n"
     ]
    }
   ],
   "source": [
    "p.show()"
   ]
  },
  {
   "cell_type": "code",
   "execution_count": null,
   "id": "6a4abeb7-5c4c-414e-9a0b-c583575cf408",
   "metadata": {},
   "outputs": [],
   "source": []
  }
 ],
 "metadata": {
  "kernelspec": {
   "display_name": "Python 3 (ipykernel)",
   "language": "python",
   "name": "python3"
  },
  "language_info": {
   "codemirror_mode": {
    "name": "ipython",
    "version": 3
   },
   "file_extension": ".py",
   "mimetype": "text/x-python",
   "name": "python",
   "nbconvert_exporter": "python",
   "pygments_lexer": "ipython3",
   "version": "3.10.8"
  }
 },
 "nbformat": 4,
 "nbformat_minor": 5
}
