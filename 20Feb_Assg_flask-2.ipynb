{
 "cells": [
  {
   "cell_type": "markdown",
   "id": "f1edc5f0-ac07-43f9-a82b-6ec37a34cc6b",
   "metadata": {},
   "source": [
    "Q1. Explain GET and POST methods.\n",
    "\n",
    "Ans:\n",
    "\n",
    "HTTP protocol enables the communication between the client and the server where a browser can be the client, and an application running on a computer system that hosts your website can be the server.\n",
    "\n",
    "GET:\n",
    "GET is used to request data from a specified resource.\n",
    "There are some features of GET Method like they can be cached,they remain in the browser history,they are no secure.\n",
    "\n",
    "POST:\n",
    "POST is used to send data to a server to create/update resource.\n",
    "They can never be cached,they are not stored in browser history and hence they are secure.\n",
    "\n",
    "\n",
    "POST is used when your application expects user input to be received by command or an HTTP request, while GET gets all the information before it even has a chance for submission.\n",
    "\n"
   ]
  },
  {
   "cell_type": "markdown",
   "id": "21724259-6f6b-4406-b60b-c975a7a136c6",
   "metadata": {},
   "source": [
    "Q2. Why is request used in Flask?\n",
    "\n",
    "Ans:\n",
    "\n",
    "In a Flask App, we have our own Webpage (Client) and a Server. The Server should process the data.  The Request, in Flask, is an object that contains all the data sent from the Client to Server. This data can be recovered using the GET/POST Methods."
   ]
  },
  {
   "cell_type": "markdown",
   "id": "e120b51f-5eb7-49f1-a54b-04315e713158",
   "metadata": {},
   "source": [
    "Q3. Why is redirect() used in Flask?\n",
    "\n",
    "Ans:\n",
    "\n",
    "The redirect() function returns a response object and redirects the user to the target location mentioned inside the function.\n",
    "\n",
    "Flask.redirect(location, statuscode, response)\n"
   ]
  },
  {
   "cell_type": "markdown",
   "id": "c0ee996f-bda9-4979-a8ad-e03bb3e7d3c6",
   "metadata": {},
   "source": [
    "Q4. What are templates in Flask? Why is the render_template() function used?\n",
    "\n",
    "Ans:\n",
    "\n",
    "Templates are files that contain static data as well as placeholders for dynamic data.\n",
    "\n",
    "render_template is a Flask function from the flask. templating package. render_template is used to generate output\n",
    "from a template file based on the Jinja2 engine that is found in the application's templates folder."
   ]
  },
  {
   "cell_type": "markdown",
   "id": "c0995c77-3f8e-4397-9061-7b1fb85f64a3",
   "metadata": {},
   "source": [
    "Q5. Create a simple API. Use Postman to test it. Attach the screenshot of the output in the Jupyter Notebook."
   ]
  },
  {
   "cell_type": "code",
   "execution_count": null,
   "id": "a4a536ea-9d63-4557-b5a0-7c5040b1dcb6",
   "metadata": {},
   "outputs": [],
   "source": [
    "from flask import Flask,jsonify\n",
    "\n",
    "postapp=Flask(__name__)\n",
    "\n",
    "@postapp.route('/postapi')\n",
    "def post_method():\n",
    "    res='welcome to postman'\n",
    "    return jsonify(res)\n",
    "\n",
    "\n",
    "\n",
    "\n",
    "if __name__==\"__main__\":\n",
    "    postapp.run(host=\"0.0.0.0\")"
   ]
  },
  {
   "cell_type": "markdown",
   "id": "47e85499-00a3-46c1-8b0e-2a563a4eaa02",
   "metadata": {},
   "source": []
  }
 ],
 "metadata": {
  "kernelspec": {
   "display_name": "Python 3 (ipykernel)",
   "language": "python",
   "name": "python3"
  },
  "language_info": {
   "codemirror_mode": {
    "name": "ipython",
    "version": 3
   },
   "file_extension": ".py",
   "mimetype": "text/x-python",
   "name": "python",
   "nbconvert_exporter": "python",
   "pygments_lexer": "ipython3",
   "version": "3.10.8"
  }
 },
 "nbformat": 4,
 "nbformat_minor": 5
}
