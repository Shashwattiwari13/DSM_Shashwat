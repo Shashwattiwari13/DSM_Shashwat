{
 "cells": [
  {
   "cell_type": "markdown",
   "id": "218cc95d-5e4d-4af5-89ca-26d60aa2fc8a",
   "metadata": {},
   "source": [
    "Q1. What is a database? Differentiate between SQL and NoSQL databases.\n",
    "\n",
    "Ans:Database is a location where data is stored in a certain format  electronically in a computer system.\n",
    "\n",
    "SQL is structured query language in which data is stored in a tabular format.\n",
    "Example-Mysql,Oracle\n",
    "\n",
    "NOSQL is Not only structured query language in which data is stored in unstructured way for example in a JSON format.\n",
    "Example-MongoDB,casandara"
   ]
  },
  {
   "cell_type": "markdown",
   "id": "2c25aa32-05a2-47d4-abde-d57c809ecab0",
   "metadata": {},
   "source": [
    "Q2. What is DDL? Explain why CREATE, DROP, ALTER, and TRUNCATE are used with an example.\n",
    "\n",
    "Ans:\n",
    "DDL is data defination langauge which consists of command that are used to define a  database.\n",
    "\n",
    "1.CREATE\n",
    "Used to create a data base\n",
    "\n",
    "CREATE DATABASE dbname;\n",
    "\n",
    "2.DROP\n",
    "To delete a database\n",
    "\n",
    "DROP DATABASE dbName;\n",
    "\n",
    "3.ALTER\n",
    "\n",
    "change the selected table\n",
    "\n",
    "ALTER TABLE name_of_table ADD column_name column_definition;  \n",
    "\n",
    "4.TRUNCATE\n",
    "\n",
    "removes all data from a table\n",
    "\n",
    "TRUNCATE TABLE Table_Name;\n",
    "\n",
    "\n",
    "\n",
    "\n",
    "\n",
    "\n"
   ]
  },
  {
   "cell_type": "markdown",
   "id": "c0715726-f279-44ca-a9a7-eef10288d5b3",
   "metadata": {},
   "source": [
    "Q3. What is DML? Explain INSERT, UPDATE, and DELETE with an example.\n",
    "\n",
    "Ans:\n",
    "DML is Data Manipulation Langauge which consists of command that are used to manipulate data inside the database.\n",
    "\n",
    "1.INSERT\n",
    "used to insert values into the table\n",
    "\n",
    "INSERT INTO table_name (field1, field2, ...) VALUES (value1, value2, ...)\n",
    "\n",
    "2.UPDATE\n",
    "update all or specified rows in your table\n",
    "\n",
    "UPDATE table_name\n",
    "SET column1 = value1,\n",
    "...;\n",
    "\n",
    "3.DELETE\n",
    "to delete rows or column inside a table\n",
    "\n",
    "DELETE from table_name where condition\n",
    "\n",
    "\n"
   ]
  },
  {
   "cell_type": "markdown",
   "id": "694772a8-f52f-4d41-86c4-9d244bb9b656",
   "metadata": {},
   "source": [
    "Q4. What is DQL? Explain SELECT with an example.\n",
    "\n",
    "Ans:\n",
    "\n",
    "DQL is Data Query Language in sql consisting of commands which are used to get data from the table.\n",
    "\n",
    "SELECT\n",
    "\n",
    "It is used to retrieve information from the table depending upon the specified condition.\n",
    "\n",
    "SELECT * FROM table_name;\n"
   ]
  },
  {
   "cell_type": "markdown",
   "id": "e101dc80-daee-45bb-ad14-3ae1ea600f6f",
   "metadata": {},
   "source": [
    "Q5. Explain Primary Key and Foreign Key.\n",
    "\n",
    "Ans:\n",
    "Primary Key\n",
    "It is a field in a table which uniquely identifies each record in a database table.It cannot be null\n",
    "\n",
    "Foreign Key\n",
    "It is used to link two tables\n",
    "It is a field in one table which refers to the primary key in another table."
   ]
  },
  {
   "cell_type": "markdown",
   "id": "84482a11-3f88-4b4d-8054-017b5b168ac8",
   "metadata": {},
   "source": [
    "Q6. Write a python code to connect MySQL to python. Explain the cursor() and execute() method.\n",
    "\n",
    "Ans:\n",
    "\n",
    "import mysql.connector\n",
    "mydb = mysql.connector.connect(\n",
    "  host=\"localhost\",\n",
    "  user=\"abc\",\n",
    "  password=\"password\")\n",
    "  \n",
    "A cursor is an object which helps to execute the query and fetch the records from the database. \n",
    "\n",
    "The execute () method helps us to execute the query and return records according to the query."
   ]
  },
  {
   "cell_type": "markdown",
   "id": "1857fbcb-e922-45b5-896b-5afa49cc679e",
   "metadata": {},
   "source": [
    "Q7. Give the order of execution of SQL clauses in an SQL query.\n",
    "\n",
    "Ans:\n",
    "\n",
    "FROM clause\n",
    "\n",
    "\n",
    "ON clause\n",
    "\n",
    "OUTER clause\n",
    "\n",
    "WHERE clause\n",
    "\n",
    "GROUP BY clause\n",
    "\n",
    "HAVING clause\n",
    "\n",
    "SELECT clause\n",
    "\n",
    "DISTINCT clause\n",
    "\n",
    "ORDER BY clause\n",
    "\n",
    "TOP clause\n"
   ]
  },
  {
   "cell_type": "code",
   "execution_count": null,
   "id": "cda39808-f00f-480d-8a4c-86aba7c397d5",
   "metadata": {},
   "outputs": [],
   "source": []
  }
 ],
 "metadata": {
  "kernelspec": {
   "display_name": "Python 3 (ipykernel)",
   "language": "python",
   "name": "python3"
  },
  "language_info": {
   "codemirror_mode": {
    "name": "ipython",
    "version": 3
   },
   "file_extension": ".py",
   "mimetype": "text/x-python",
   "name": "python",
   "nbconvert_exporter": "python",
   "pygments_lexer": "ipython3",
   "version": "3.10.8"
  }
 },
 "nbformat": 4,
 "nbformat_minor": 5
}
