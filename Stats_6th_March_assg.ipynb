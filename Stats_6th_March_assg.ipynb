{
 "cells": [
  {
   "cell_type": "raw",
   "id": "a2a83e8e-3ac5-4365-903b-7e2499afc162",
   "metadata": {},
   "source": [
    "Q1. What is Statistics?\n",
    "\n",
    "Ans:\n",
    "\n",
    "It is the science of collection,organizing and analysing data where data is facts and pieces of information. "
   ]
  },
  {
   "cell_type": "raw",
   "id": "c1e93337-95df-4ce1-ae9a-357b6f7efb66",
   "metadata": {},
   "source": [
    "Q2. Define the different types of statistics and give an example of when each type might be used.\n",
    "\n",
    "Ans:\n",
    "Discriptive statistics: It consists of organizing and summarizing the data.\n",
    "Example:Calculating mean,media,mode of the data consisting of marks of students in a class.\n",
    "\n",
    "Inferential statistics:It consists of using data that you have to form conclusions.\n",
    "Example: randomly select a sample of 11th graders in your state and collect data on their SAT scores and other characteristics.\n",
    "use inferential statistics to make estimates about the whole population of 11th graders in the state based on your sample data."
   ]
  },
  {
   "cell_type": "raw",
   "id": "28467010-edaf-4159-a6bb-a51ded2d2eda",
   "metadata": {},
   "source": [
    "Q3. What are the different types of data and how do they differ from each other? Provide an example of\n",
    "each type of data.\n",
    "\n",
    "Ans:\n",
    "1.Quantiitaive:Numerical data\n",
    " #Discrete:consists of whole number \n",
    " Example:No. of Bank accounts:1,2,3\n",
    " \n",
    " #Continuous:anyvalue\n",
    " Example:Weight,height data\n",
    " \n",
    "2.Qualitative:Categorical data\n",
    "  #Nominal:example:Gender(M/F),Blood group\n",
    "  \n",
    " #Ordinal:here we can assign rank to the categories\n",
    " Example 1--Good,3--Bad,2--Satisfactory"
   ]
  },
  {
   "cell_type": "raw",
   "id": "d1916991-30ef-463a-90f8-13660f5143d5",
   "metadata": {},
   "source": [
    "Q4. Categorise the following datasets with respect to quantitative and qualitative data types:\n",
    "(i) Grading in exam: A+, A, B+, B, C+, C, D, E---Ordinal \n",
    "(ii) Colour of mangoes: yellow, green, orange, red----Nominal\n",
    "(iii) Height data of a class: [178.9, 179, 179.5, 176, 177.2, 178.3, 175.8,...]---Continuous\n",
    "(iv) Number of mangoes exported by a farm: [500, 600, 478, 672, ...]--Discrete "
   ]
  },
  {
   "cell_type": "raw",
   "id": "63304b88-8c54-4253-885c-4e0dee6cce60",
   "metadata": {},
   "source": [
    "Q5. Explain the concept of levels of measurement and give an example of a variable for each level.\n",
    "\n",
    "Ans:\n",
    "1.Nominal Scale data\n",
    "order does not matters here -example blood group,gender\n",
    "\n",
    "2.Ordinal Scale data-\n",
    "Ranking and order matters \n",
    "\n",
    "Example -Qualification-1st-phd,2nd-mba,3rd-bcom\n",
    "\n",
    "3.Interval Scale Data:\n",
    "the rank and order matters\n",
    "difference can be measured(excluding ratio)\n",
    "does not have zero starting point(a temperature dataset does not have zero as a constant value)\n",
    "\n",
    "4.Ratio Scale Data:\n",
    "same as Interval except that ratio can also be measured \n",
    "Example-Grade"
   ]
  },
  {
   "cell_type": "raw",
   "id": "010ca4cf-de07-4d01-aa36-a3db5848d0ea",
   "metadata": {},
   "source": [
    "Q6. Why is it important to understand the level of measurement when analyzing data? Provide an\n",
    "example to illustrate your answer.\n",
    "\n",
    "Ans:\n",
    "knowing the level of measurement helps you decide what statistical analysis is appropriate on the values that were assigned. \n",
    "Example:If you have data in which ranking and order matters then you'll know that it is a ordinal type of data.\n",
    "\n"
   ]
  },
  {
   "cell_type": "raw",
   "id": "059ea558-7b69-4fcb-a382-5e03f98bd61d",
   "metadata": {},
   "source": [
    "Q7. How nominal data type is different from ordinal data type.\n",
    "\n",
    "Ans:\n",
    "In Nominal data type the order or ranking of the data does not matter.\n",
    "For example:\n",
    "In gender data set we cannot rank Male as first or female as first\n",
    "But in a data set consisting of grades of students we can rank that A+ has the highest value.\n"
   ]
  },
  {
   "cell_type": "markdown",
   "id": "201f7b18-9715-41af-8103-e8507a0cd360",
   "metadata": {},
   "source": [
    "Q7. Q8. Which type of plot can be used to display data in terms of range?\n",
    "\n",
    "Ans:\n",
    "line graph, histogram"
   ]
  },
  {
   "cell_type": "raw",
   "id": "28da64ea-c288-4c5b-ad96-c3c258551f59",
   "metadata": {},
   "source": [
    "Q9. Describe the difference between descriptive and inferential statistics. Give an example of each\n",
    "type of statistics and explain how they are used.\n",
    "\n",
    "Ans:\n",
    "Discriptive statistics: It consists of organizing and summarizing the data.\n",
    "Example:Calculating mean,media,mode of the data consisting of marks of students in a class.\n",
    "\n",
    "Inferential statistics:It consists of using data that you have to form conclusions.\n",
    "Example: randomly select a sample of 11th graders in your state and collect data on their SAT scores and other characteristics.\n",
    "use inferential statistics to make estimates about the whole population of 11th graders in the state based on your sample data.\n"
   ]
  },
  {
   "cell_type": "raw",
   "id": "47d78e67-cffd-4d4d-860c-99dc4b1e678b",
   "metadata": {},
   "source": [
    "Q10. What are some common measures of central tendency and variability used in statistics? Explain\n",
    "how each measure can be used to describe a dataset.\n",
    "Ans:\n",
    "Mean median mode for central tendenancy\n",
    "Standard deviation , variance for measure of dispersion\n",
    "\n",
    "Mean is avg value of a data \n",
    "The median is the value in the middle of a data set,\n",
    " "
   ]
  },
  {
   "cell_type": "code",
   "execution_count": null,
   "id": "60355513-cb3a-424f-b7f2-9ca0c6bfa2e7",
   "metadata": {},
   "outputs": [],
   "source": []
  }
 ],
 "metadata": {
  "kernelspec": {
   "display_name": "Python 3 (ipykernel)",
   "language": "python",
   "name": "python3"
  },
  "language_info": {
   "codemirror_mode": {
    "name": "ipython",
    "version": 3
   },
   "file_extension": ".py",
   "mimetype": "text/x-python",
   "name": "python",
   "nbconvert_exporter": "python",
   "pygments_lexer": "ipython3",
   "version": "3.10.8"
  }
 },
 "nbformat": 4,
 "nbformat_minor": 5
}
