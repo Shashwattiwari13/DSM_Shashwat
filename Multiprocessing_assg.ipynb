{
 "cells": [
  {
   "cell_type": "markdown",
   "id": "661239fc-2b89-4026-acf8-551e0349cab0",
   "metadata": {},
   "source": [
    "Q1. What is multiprocessing in python? Why is it useful?\n",
    "\n",
    "\n",
    "Ans:It is a mechanism in which multiple process run at the same time in a single thread.It is useful because running multiple \n",
    "processes concurrently improves the performance of a program by using multiple CPUs or CPU cores.\n",
    "\n",
    "    "
   ]
  },
  {
   "cell_type": "markdown",
   "id": "a2dc5564-bb2f-4970-9b5c-b5128a579e8e",
   "metadata": {},
   "source": [
    "Q2. What are the differences between multiprocessing and multithreading?\n",
    "\n",
    "Ans:Multithreading runs multiple threads simultaneously within a single process, while multiprocessing runs multiple processes simultaneously within a single thread.\n",
    "\n",
    "Memory Utilization is less for multithreading as compared to multiprocessing.\n",
    "\n"
   ]
  },
  {
   "cell_type": "markdown",
   "id": "0a5568ec-60b5-473f-ba9c-ef68dbc58980",
   "metadata": {},
   "source": [
    "Q3. Write a python code to create a process using the multiprocessing module."
   ]
  },
  {
   "cell_type": "code",
   "execution_count": 4,
   "id": "6b8c247d-a187-4354-a2bf-cea1b1d1a2a8",
   "metadata": {},
   "outputs": [
    {
     "name": "stdout",
     "output_type": "stream",
     "text": [
      "cube: 125\n",
      "square: 16\n"
     ]
    }
   ],
   "source": [
    "import multiprocessing\n",
    "\n",
    "def cube(num):\n",
    "    print('cube: {}'.format(num * num * num))\n",
    "def sq(num):\n",
    "    print('square: {}'.format(num * num ))\n",
    "    \n",
    "if __name__=='__main__':\n",
    "    \n",
    "    m1=multiprocessing.Process(target=cube,args=(5,))\n",
    "    m2=multiprocessing.Process(target=sq,args=(4,))\n",
    "    \n",
    "    m1.start()\n",
    "    m2.start()\n",
    "    \n",
    "    m1.join()\n",
    "    m2.join()\n",
    "    \n",
    "    \n",
    "    "
   ]
  },
  {
   "cell_type": "markdown",
   "id": "7d486f76-a3cc-4c1d-a8f4-c2c8f37b6d91",
   "metadata": {},
   "source": [
    "Q4. What is a multiprocessing pool in python? Why is it used?\n",
    "\n",
    "Ans:A pool in multiprocessing provides a pool of data to the function.\n",
    "\n",
    "It is used so as to provide multiple inputs at the same time to the different process and latter on accumulate the result and provide it in the output."
   ]
  },
  {
   "cell_type": "markdown",
   "id": "e058122b-5d75-40b8-8f0e-369bc20ce162",
   "metadata": {},
   "source": [
    "Q5. How can we create a pool of worker processes in python using the multiprocessing module?"
   ]
  },
  {
   "cell_type": "code",
   "execution_count": 5,
   "id": "b7dbc9df-b5a5-4d05-90c2-2241edba5c3d",
   "metadata": {},
   "outputs": [
    {
     "name": "stdout",
     "output_type": "stream",
     "text": [
      "[9, 25, 4, 36, 49, 16, 310249, 4]\n"
     ]
    }
   ],
   "source": [
    "def square(n):\n",
    "    return n**2\n",
    "\n",
    "if __name__=='__main__':\n",
    "    with multiprocessing.Pool(processes=5) as pool:\n",
    "        out=pool.map(square,[3,5,2,6,7,4,557,2])\n",
    "        print(out)"
   ]
  },
  {
   "cell_type": "markdown",
   "id": "9e59a822-4cc3-4c8d-b271-ba9241209cb1",
   "metadata": {},
   "source": [
    "Q6. Write a python program to create 4 processes, each process should print a different number using the\n",
    "multiprocessing module in python."
   ]
  },
  {
   "cell_type": "code",
   "execution_count": 7,
   "id": "5b88485a-3544-4d11-8246-04286fe6f082",
   "metadata": {},
   "outputs": [
    {
     "name": "stdout",
     "output_type": "stream",
     "text": [
      "cube: 125\n",
      "square: 16\n",
      "devison: 2\n",
      "multiplication:20\n"
     ]
    }
   ],
   "source": [
    "import multiprocessing\n",
    "\n",
    "def cube(num):\n",
    "    print('cube: {}'.format(num * num * num))\n",
    "def sq(num):\n",
    "    print('square: {}'.format(num * num ))\n",
    "def dev(a,b):\n",
    "    print('devison: {}'.format(a//b))\n",
    "def multiply(c,d):\n",
    "          print('multiplication:{}'.format(c*d))\n",
    "\n",
    "          \n",
    "if __name__=='__main__':\n",
    "          m1=multiprocessing.Process(target=cube,args=(5,))\n",
    "          m2=multiprocessing.Process(target=sq,args=(4,))\n",
    "          m3=multiprocessing.Process(target=dev,args=(6,3))\n",
    "          m4=multiprocessing.Process(target=multiply,args=(5,4))\n",
    "    \n",
    "          m1.start()\n",
    "          m2.start()\n",
    "          m3.start()\n",
    "          m4.start()\n",
    "    \n",
    "    \n",
    "          m1.join()\n",
    "          m2.join()\n",
    "          m3.join()\n",
    "          m4.join()\n",
    "          \n",
    "          "
   ]
  },
  {
   "cell_type": "code",
   "execution_count": null,
   "id": "543a7c7b-c538-4995-9bf3-8003926bde29",
   "metadata": {},
   "outputs": [],
   "source": []
  }
 ],
 "metadata": {
  "kernelspec": {
   "display_name": "Python 3 (ipykernel)",
   "language": "python",
   "name": "python3"
  },
  "language_info": {
   "codemirror_mode": {
    "name": "ipython",
    "version": 3
   },
   "file_extension": ".py",
   "mimetype": "text/x-python",
   "name": "python",
   "nbconvert_exporter": "python",
   "pygments_lexer": "ipython3",
   "version": "3.10.8"
  }
 },
 "nbformat": 4,
 "nbformat_minor": 5
}
